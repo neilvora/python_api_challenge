{
 "cells": [
  {
   "cell_type": "markdown",
   "metadata": {},
   "source": [
    "# VacationPy\n",
    "----\n",
    "\n",
    "#### Note\n",
    "* Instructions have been included for each segment. You do not have to follow them exactly, but they are included to help you think through the steps."
   ]
  },
  {
   "cell_type": "code",
   "execution_count": 1,
   "metadata": {},
   "outputs": [],
   "source": [
    "# Dependencies and Setup\n",
    "import matplotlib.pyplot as plt\n",
    "import pandas as pd\n",
    "import numpy as np\n",
    "import requests\n",
    "import gmaps\n",
    "import os\n",
    "\n",
    "# Import API key\n",
    "from api_keys import g_key\n"
   ]
  },
  {
   "cell_type": "markdown",
   "metadata": {},
   "source": [
    "### Store Part I results into DataFrame\n",
    "* Load the csv exported in Part I to a DataFrame"
   ]
  },
  {
   "cell_type": "code",
   "execution_count": 2,
   "metadata": {},
   "outputs": [
    {
     "name": "stdout",
     "output_type": "stream",
     "text": [
      "<class 'pandas.core.frame.DataFrame'>\n",
      "RangeIndex: 563 entries, 0 to 562\n",
      "Data columns (total 11 columns):\n",
      " #   Column      Non-Null Count  Dtype  \n",
      "---  ------      --------------  -----  \n",
      " 0   Unnamed: 0  563 non-null    int64  \n",
      " 1   City ID     563 non-null    int64  \n",
      " 2   City        563 non-null    object \n",
      " 3   Country     557 non-null    object \n",
      " 4   Date        563 non-null    int64  \n",
      " 5   Cloudiness  563 non-null    int64  \n",
      " 6   Humidity    563 non-null    int64  \n",
      " 7   Latitude    563 non-null    float64\n",
      " 8   Longitude   563 non-null    float64\n",
      " 9   Max Temp    563 non-null    float64\n",
      " 10  Wind Speed  563 non-null    float64\n",
      "dtypes: float64(4), int64(5), object(2)\n",
      "memory usage: 48.5+ KB\n"
     ]
    }
   ],
   "source": [
    "# Create Dataframe from cities file generated from WeatherPy\n",
    "\n",
    "file = os.path.join(\"..\",\"WeatherPy\",\"output_data\",\"cities.csv\")\n",
    "\n",
    "cities_df = pd.read_csv(file)\n",
    "\n",
    "cities_df.info()\n"
   ]
  },
  {
   "cell_type": "markdown",
   "metadata": {},
   "source": [
    "### Humidity Heatmap\n",
    "* Configure gmaps.\n",
    "* Use the Lat and Lng as locations and Humidity as the weight.\n",
    "* Add Heatmap layer to map."
   ]
  },
  {
   "cell_type": "code",
   "execution_count": 3,
   "metadata": {},
   "outputs": [
    {
     "data": {
      "application/vnd.jupyter.widget-view+json": {
       "model_id": "d9a32a2b7f714135a0f18a3993109215",
       "version_major": 2,
       "version_minor": 0
      },
      "text/plain": [
       "Figure(layout=FigureLayout(height='420px'))"
      ]
     },
     "metadata": {},
     "output_type": "display_data"
    }
   ],
   "source": [
    "#Configure gmaps\n",
    "gmaps.configure(g_key)\n",
    "\n",
    "# Use Lat/Long from cities_df to store as locations\n",
    "\n",
    "locations = cities_df[['Latitude','Longitude']]\n",
    "\n",
    "# Store humidity as weight\n",
    "\n",
    "weight = cities_df['Humidity']\n",
    "\n",
    "# Store Heatmap in fig\n",
    "\n",
    "fig = gmaps.figure()\n",
    "\n",
    "# Create heat layer\n",
    "\n",
    "heat_layer = gmaps.heatmap_layer(locations, weights=weight,dissipating = False,max_intensity = 10,point_radius=1)\n",
    "\n",
    "fig.add_layer(heat_layer)\n",
    "\n",
    "fig\n",
    "\n"
   ]
  },
  {
   "cell_type": "code",
   "execution_count": null,
   "metadata": {},
   "outputs": [],
   "source": []
  },
  {
   "cell_type": "markdown",
   "metadata": {},
   "source": [
    "### Create new DataFrame fitting weather criteria\n",
    "* Narrow down the cities to fit weather conditions.\n",
    "* Drop any rows will null values."
   ]
  },
  {
   "cell_type": "code",
   "execution_count": 4,
   "metadata": {},
   "outputs": [],
   "source": [
    "\n",
    "# Convert Kelvin to Fahrenheit\n",
    "cities_df['Max Temp'] =(cities_df['Max Temp'] -273.15)*9/5 + 32"
   ]
  },
  {
   "cell_type": "code",
   "execution_count": 5,
   "metadata": {},
   "outputs": [
    {
     "data": {
      "text/html": [
       "<div>\n",
       "<style scoped>\n",
       "    .dataframe tbody tr th:only-of-type {\n",
       "        vertical-align: middle;\n",
       "    }\n",
       "\n",
       "    .dataframe tbody tr th {\n",
       "        vertical-align: top;\n",
       "    }\n",
       "\n",
       "    .dataframe thead th {\n",
       "        text-align: right;\n",
       "    }\n",
       "</style>\n",
       "<table border=\"1\" class=\"dataframe\">\n",
       "  <thead>\n",
       "    <tr style=\"text-align: right;\">\n",
       "      <th></th>\n",
       "      <th>Unnamed: 0</th>\n",
       "      <th>City ID</th>\n",
       "      <th>City</th>\n",
       "      <th>Country</th>\n",
       "      <th>Date</th>\n",
       "      <th>Cloudiness</th>\n",
       "      <th>Humidity</th>\n",
       "      <th>Latitude</th>\n",
       "      <th>Longitude</th>\n",
       "      <th>Max Temp</th>\n",
       "      <th>Wind Speed</th>\n",
       "    </tr>\n",
       "  </thead>\n",
       "  <tbody>\n",
       "    <tr>\n",
       "      <th>8</th>\n",
       "      <td>8</td>\n",
       "      <td>3356832</td>\n",
       "      <td>Henties Bay</td>\n",
       "      <td>NaN</td>\n",
       "      <td>1592446139</td>\n",
       "      <td>0</td>\n",
       "      <td>31</td>\n",
       "      <td>-22.12</td>\n",
       "      <td>14.28</td>\n",
       "      <td>73.994</td>\n",
       "      <td>0.89</td>\n",
       "    </tr>\n",
       "    <tr>\n",
       "      <th>20</th>\n",
       "      <td>20</td>\n",
       "      <td>6620339</td>\n",
       "      <td>Karratha</td>\n",
       "      <td>AU</td>\n",
       "      <td>1592446142</td>\n",
       "      <td>0</td>\n",
       "      <td>35</td>\n",
       "      <td>-20.74</td>\n",
       "      <td>116.85</td>\n",
       "      <td>78.674</td>\n",
       "      <td>2.29</td>\n",
       "    </tr>\n",
       "    <tr>\n",
       "      <th>51</th>\n",
       "      <td>51</td>\n",
       "      <td>2065594</td>\n",
       "      <td>Mount Isa</td>\n",
       "      <td>AU</td>\n",
       "      <td>1592446150</td>\n",
       "      <td>0</td>\n",
       "      <td>41</td>\n",
       "      <td>-20.73</td>\n",
       "      <td>139.50</td>\n",
       "      <td>78.800</td>\n",
       "      <td>6.20</td>\n",
       "    </tr>\n",
       "    <tr>\n",
       "      <th>114</th>\n",
       "      <td>114</td>\n",
       "      <td>6316343</td>\n",
       "      <td>Alta Floresta</td>\n",
       "      <td>BR</td>\n",
       "      <td>1592446165</td>\n",
       "      <td>0</td>\n",
       "      <td>70</td>\n",
       "      <td>-9.88</td>\n",
       "      <td>-56.09</td>\n",
       "      <td>70.520</td>\n",
       "      <td>1.51</td>\n",
       "    </tr>\n",
       "    <tr>\n",
       "      <th>133</th>\n",
       "      <td>133</td>\n",
       "      <td>4035715</td>\n",
       "      <td>Avarua</td>\n",
       "      <td>CK</td>\n",
       "      <td>1592446170</td>\n",
       "      <td>0</td>\n",
       "      <td>73</td>\n",
       "      <td>-21.21</td>\n",
       "      <td>-159.78</td>\n",
       "      <td>73.400</td>\n",
       "      <td>3.60</td>\n",
       "    </tr>\n",
       "  </tbody>\n",
       "</table>\n",
       "</div>"
      ],
      "text/plain": [
       "     Unnamed: 0  City ID           City Country        Date  Cloudiness  \\\n",
       "8             8  3356832    Henties Bay     NaN  1592446139           0   \n",
       "20           20  6620339       Karratha      AU  1592446142           0   \n",
       "51           51  2065594      Mount Isa      AU  1592446150           0   \n",
       "114         114  6316343  Alta Floresta      BR  1592446165           0   \n",
       "133         133  4035715         Avarua      CK  1592446170           0   \n",
       "\n",
       "     Humidity  Latitude  Longitude  Max Temp  Wind Speed  \n",
       "8          31    -22.12      14.28    73.994        0.89  \n",
       "20         35    -20.74     116.85    78.674        2.29  \n",
       "51         41    -20.73     139.50    78.800        6.20  \n",
       "114        70     -9.88     -56.09    70.520        1.51  \n",
       "133        73    -21.21    -159.78    73.400        3.60  "
      ]
     },
     "execution_count": 5,
     "metadata": {},
     "output_type": "execute_result"
    }
   ],
   "source": [
    "# Narrow down DataFrame (Max Temp>70 but <80, Wind Speed <10, Cloudiness = 0, drop all the do not contain those values)\n",
    "\n",
    "\n",
    "ideal_df = cities_df.loc[(cities_df['Max Temp']>70) & \n",
    "                             (cities_df['Max Temp']<80) & \n",
    "                             (cities_df['Cloudiness']==0) &\n",
    "                             (cities_df['Wind Speed']<10),\n",
    "                             :]\n",
    "\n",
    "\n",
    "\n",
    "ideal_df.head()\n"
   ]
  },
  {
   "cell_type": "code",
   "execution_count": 6,
   "metadata": {},
   "outputs": [
    {
     "name": "stdout",
     "output_type": "stream",
     "text": [
      "<class 'pandas.core.frame.DataFrame'>\n",
      "Int64Index: 25 entries, 8 to 538\n",
      "Data columns (total 11 columns):\n",
      " #   Column      Non-Null Count  Dtype  \n",
      "---  ------      --------------  -----  \n",
      " 0   Unnamed: 0  25 non-null     int64  \n",
      " 1   City ID     25 non-null     int64  \n",
      " 2   City        25 non-null     object \n",
      " 3   Country     23 non-null     object \n",
      " 4   Date        25 non-null     int64  \n",
      " 5   Cloudiness  25 non-null     int64  \n",
      " 6   Humidity    25 non-null     int64  \n",
      " 7   Latitude    25 non-null     float64\n",
      " 8   Longitude   25 non-null     float64\n",
      " 9   Max Temp    25 non-null     float64\n",
      " 10  Wind Speed  25 non-null     float64\n",
      "dtypes: float64(4), int64(5), object(2)\n",
      "memory usage: 2.3+ KB\n"
     ]
    }
   ],
   "source": [
    "# Drop any null values\n",
    "\n",
    "ideal_df.dropna()\n",
    "\n",
    "ideal_df.info()"
   ]
  },
  {
   "cell_type": "markdown",
   "metadata": {},
   "source": [
    "### Hotel Map\n",
    "* Store into variable named `hotel_df`.\n",
    "* Add a \"Hotel Name\" column to the DataFrame.\n",
    "* Set parameters to search for hotels with 5000 meters.\n",
    "* Hit the Google Places API for each city's coordinates.\n",
    "* Store the first Hotel result into the DataFrame.\n",
    "* Plot markers on top of the heatmap."
   ]
  },
  {
   "cell_type": "code",
   "execution_count": 7,
   "metadata": {},
   "outputs": [
    {
     "name": "stderr",
     "output_type": "stream",
     "text": [
      "<ipython-input-7-54b155082ec2>:5: SettingWithCopyWarning: \n",
      "A value is trying to be set on a copy of a slice from a DataFrame.\n",
      "Try using .loc[row_indexer,col_indexer] = value instead\n",
      "\n",
      "See the caveats in the documentation: https://pandas.pydata.org/pandas-docs/stable/user_guide/indexing.html#returning-a-view-versus-a-copy\n",
      "  hotel_df[\"Hotel Name\"] = \"\"\n"
     ]
    }
   ],
   "source": [
    "# store hotel_df\n",
    "\n",
    "hotel_df = ideal_df\n",
    "\n",
    "hotel_df[\"Hotel Name\"] = \"\"\n"
   ]
  },
  {
   "cell_type": "code",
   "execution_count": 8,
   "metadata": {},
   "outputs": [
    {
     "name": "stderr",
     "output_type": "stream",
     "text": [
      "<ipython-input-8-6e62ab509404>:15: SettingWithCopyWarning: \n",
      "A value is trying to be set on a copy of a slice from a DataFrame.\n",
      "Try using .loc[row_indexer,col_indexer] = value instead\n",
      "\n",
      "See the caveats in the documentation: https://pandas.pydata.org/pandas-docs/stable/user_guide/indexing.html#returning-a-view-versus-a-copy\n",
      "  hotel_df['Location'] = location\n",
      "<ipython-input-8-6e62ab509404>:32: SettingWithCopyWarning: \n",
      "A value is trying to be set on a copy of a slice from a DataFrame.\n",
      "Try using .loc[row_indexer,col_indexer] = value instead\n",
      "\n",
      "See the caveats in the documentation: https://pandas.pydata.org/pandas-docs/stable/user_guide/indexing.html#returning-a-view-versus-a-copy\n",
      "  hotel_df['Hotel Name'] = hotels\n"
     ]
    },
    {
     "data": {
      "text/html": [
       "<div>\n",
       "<style scoped>\n",
       "    .dataframe tbody tr th:only-of-type {\n",
       "        vertical-align: middle;\n",
       "    }\n",
       "\n",
       "    .dataframe tbody tr th {\n",
       "        vertical-align: top;\n",
       "    }\n",
       "\n",
       "    .dataframe thead th {\n",
       "        text-align: right;\n",
       "    }\n",
       "</style>\n",
       "<table border=\"1\" class=\"dataframe\">\n",
       "  <thead>\n",
       "    <tr style=\"text-align: right;\">\n",
       "      <th></th>\n",
       "      <th>Unnamed: 0</th>\n",
       "      <th>City ID</th>\n",
       "      <th>City</th>\n",
       "      <th>Country</th>\n",
       "      <th>Date</th>\n",
       "      <th>Cloudiness</th>\n",
       "      <th>Humidity</th>\n",
       "      <th>Latitude</th>\n",
       "      <th>Longitude</th>\n",
       "      <th>Max Temp</th>\n",
       "      <th>Wind Speed</th>\n",
       "      <th>Hotel Name</th>\n",
       "      <th>Location</th>\n",
       "    </tr>\n",
       "  </thead>\n",
       "  <tbody>\n",
       "    <tr>\n",
       "      <th>8</th>\n",
       "      <td>8</td>\n",
       "      <td>3356832</td>\n",
       "      <td>Henties Bay</td>\n",
       "      <td>NaN</td>\n",
       "      <td>1592446139</td>\n",
       "      <td>0</td>\n",
       "      <td>31</td>\n",
       "      <td>-22.12</td>\n",
       "      <td>14.28</td>\n",
       "      <td>73.994</td>\n",
       "      <td>0.89</td>\n",
       "      <td>LifeLink Emergency Rescue Services</td>\n",
       "      <td>-22.12,14.28</td>\n",
       "    </tr>\n",
       "    <tr>\n",
       "      <th>20</th>\n",
       "      <td>20</td>\n",
       "      <td>6620339</td>\n",
       "      <td>Karratha</td>\n",
       "      <td>AU</td>\n",
       "      <td>1592446142</td>\n",
       "      <td>0</td>\n",
       "      <td>35</td>\n",
       "      <td>-20.74</td>\n",
       "      <td>116.85</td>\n",
       "      <td>78.674</td>\n",
       "      <td>2.29</td>\n",
       "      <td>80 Mile Beach to Karratha Finish 2wd and 4wd</td>\n",
       "      <td>-20.74,116.85</td>\n",
       "    </tr>\n",
       "    <tr>\n",
       "      <th>51</th>\n",
       "      <td>51</td>\n",
       "      <td>2065594</td>\n",
       "      <td>Mount Isa</td>\n",
       "      <td>AU</td>\n",
       "      <td>1592446150</td>\n",
       "      <td>0</td>\n",
       "      <td>41</td>\n",
       "      <td>-20.73</td>\n",
       "      <td>139.50</td>\n",
       "      <td>78.800</td>\n",
       "      <td>6.20</td>\n",
       "      <td>Aboriginal Hostels Ltd.</td>\n",
       "      <td>-20.73,139.5</td>\n",
       "    </tr>\n",
       "    <tr>\n",
       "      <th>114</th>\n",
       "      <td>114</td>\n",
       "      <td>6316343</td>\n",
       "      <td>Alta Floresta</td>\n",
       "      <td>BR</td>\n",
       "      <td>1592446165</td>\n",
       "      <td>0</td>\n",
       "      <td>70</td>\n",
       "      <td>-9.88</td>\n",
       "      <td>-56.09</td>\n",
       "      <td>70.520</td>\n",
       "      <td>1.51</td>\n",
       "      <td>Oxalis Brindes</td>\n",
       "      <td>-9.88,-56.09</td>\n",
       "    </tr>\n",
       "    <tr>\n",
       "      <th>133</th>\n",
       "      <td>133</td>\n",
       "      <td>4035715</td>\n",
       "      <td>Avarua</td>\n",
       "      <td>CK</td>\n",
       "      <td>1592446170</td>\n",
       "      <td>0</td>\n",
       "      <td>73</td>\n",
       "      <td>-21.21</td>\n",
       "      <td>-159.78</td>\n",
       "      <td>73.400</td>\n",
       "      <td>3.60</td>\n",
       "      <td>Rarotonga Welding &amp; Steel Construction</td>\n",
       "      <td>-21.21,-159.78</td>\n",
       "    </tr>\n",
       "  </tbody>\n",
       "</table>\n",
       "</div>"
      ],
      "text/plain": [
       "     Unnamed: 0  City ID           City Country        Date  Cloudiness  \\\n",
       "8             8  3356832    Henties Bay     NaN  1592446139           0   \n",
       "20           20  6620339       Karratha      AU  1592446142           0   \n",
       "51           51  2065594      Mount Isa      AU  1592446150           0   \n",
       "114         114  6316343  Alta Floresta      BR  1592446165           0   \n",
       "133         133  4035715         Avarua      CK  1592446170           0   \n",
       "\n",
       "     Humidity  Latitude  Longitude  Max Temp  Wind Speed  \\\n",
       "8          31    -22.12      14.28    73.994        0.89   \n",
       "20         35    -20.74     116.85    78.674        2.29   \n",
       "51         41    -20.73     139.50    78.800        6.20   \n",
       "114        70     -9.88     -56.09    70.520        1.51   \n",
       "133        73    -21.21    -159.78    73.400        3.60   \n",
       "\n",
       "                                       Hotel Name        Location  \n",
       "8              LifeLink Emergency Rescue Services    -22.12,14.28  \n",
       "20   80 Mile Beach to Karratha Finish 2wd and 4wd   -20.74,116.85  \n",
       "51                        Aboriginal Hostels Ltd.    -20.73,139.5  \n",
       "114                                Oxalis Brindes    -9.88,-56.09  \n",
       "133        Rarotonga Welding & Steel Construction  -21.21,-159.78  "
      ]
     },
     "execution_count": 8,
     "metadata": {},
     "output_type": "execute_result"
    }
   ],
   "source": [
    "# Set up google places API call\n",
    "\n",
    "url = \"https://maps.googleapis.com/maps/api/place/nearbysearch/json\"\n",
    "\n",
    "params ={\n",
    "    \"rankby\": \"distance\",\n",
    "    \"type\": \"hotel\",\n",
    "    \"key\": g_key,\n",
    "}\n",
    "# Could not get it to work with \"radius\" = 5000 in my params for some reason - even upon manually entering these in a browser \n",
    "# upon doing more reading - I found that you cannot have location and radius\n",
    "\n",
    "# Add Location column as a concatenation of lat,lng columns\n",
    "location = hotel_df['Latitude'].astype(str) + \",\" + hotel_df['Longitude'].astype(str)\n",
    "hotel_df['Location'] = location\n",
    "\n",
    "\n",
    "# Set hotels as an empty list\n",
    "hotels = []\n",
    "\n",
    "\n",
    "# Use Location value to pull results from Places API for hotel nearest the given coordinates\n",
    "for index,row in hotel_df.iterrows():\n",
    "    # Get coordinates from df\n",
    "    location = row['Location']\n",
    "    # Add locations to params\n",
    "    params['location'] = location\n",
    "    response = requests.get(url, params=params).json()\n",
    "    results = response['results'][0]['name']\n",
    "    hotels.append(results)\n",
    "\n",
    "# Add a new column to the hotel_df for the nearest hotel\n",
    "hotel_df['Hotel Name'] = hotels\n",
    "\n",
    "hotel_df.head()\n",
    "\n",
    "\n",
    "    \n",
    "    \n"
   ]
  },
  {
   "cell_type": "code",
   "execution_count": 9,
   "metadata": {},
   "outputs": [],
   "source": [
    "# NOTE: Do not change any of the code in this cell\n",
    "\n",
    "# Using the template add the hotel marks to the heatmap\n",
    "info_box_template = \"\"\"\n",
    "<dl>\n",
    "<dt>Name</dt><dd>{Hotel Name}</dd>\n",
    "<dt>City</dt><dd>{City}</dd>\n",
    "<dt>Country</dt><dd>{Country}</dd>\n",
    "</dl>\n",
    "\"\"\"\n",
    "# Store the DataFrame Row\n",
    "# NOTE: be sure to update with your DataFrame name\n",
    "hotel_info = [info_box_template.format(**row) for index, row in hotel_df.iterrows()]\n",
    "locations = hotel_df[[\"Latitude\", \"Longitude\"]]\n"
   ]
  },
  {
   "cell_type": "code",
   "execution_count": 10,
   "metadata": {},
   "outputs": [
    {
     "data": {
      "application/vnd.jupyter.widget-view+json": {
       "model_id": "9746732b32694f7c98b62142e810dfd2",
       "version_major": 2,
       "version_minor": 0
      },
      "text/plain": [
       "Figure(layout=FigureLayout(height='420px'))"
      ]
     },
     "metadata": {},
     "output_type": "display_data"
    }
   ],
   "source": [
    "# Add marker layer ontop of heat map\n",
    "# Store humidity as weight\n",
    "weight = hotel_df['Humidity']\n",
    "\n",
    "# Store Heatmap in fig\n",
    "\n",
    "fig = gmaps.figure()\n",
    "\n",
    "# Create heat layer\n",
    "\n",
    "heat_layer = gmaps.heatmap_layer(locations, weights=weight,dissipating = False,max_intensity = 10,point_radius=1)\n",
    "\n",
    "fig.add_layer(heat_layer)\n",
    "# Set marker location and info\n",
    "markers = gmaps.marker_layer(locations,info_box_content = hotel_info)\n",
    "# Add marker layer\n",
    "fig.add_layer(markers)\n",
    "\n",
    "\n",
    "# Display figure\n",
    "fig"
   ]
  },
  {
   "cell_type": "code",
   "execution_count": null,
   "metadata": {},
   "outputs": [],
   "source": []
  }
 ],
 "metadata": {
  "kernelspec": {
   "display_name": "Python [conda env:PythonData] *",
   "language": "python",
   "name": "conda-env-PythonData-py"
  },
  "language_info": {
   "codemirror_mode": {
    "name": "ipython",
    "version": 3
   },
   "file_extension": ".py",
   "mimetype": "text/x-python",
   "name": "python",
   "nbconvert_exporter": "python",
   "pygments_lexer": "ipython3",
   "version": "3.8.3"
  },
  "latex_envs": {
   "LaTeX_envs_menu_present": true,
   "autoclose": false,
   "autocomplete": true,
   "bibliofile": "biblio.bib",
   "cite_by": "apalike",
   "current_citInitial": 1,
   "eqLabelWithNumbers": true,
   "eqNumInitial": 1,
   "hotkeys": {
    "equation": "Ctrl-E",
    "itemize": "Ctrl-I"
   },
   "labels_anchors": false,
   "latex_user_defs": false,
   "report_style_numbering": false,
   "user_envs_cfg": false
  }
 },
 "nbformat": 4,
 "nbformat_minor": 2
}
