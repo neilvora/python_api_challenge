{
 "cells": [
  {
   "cell_type": "markdown",
   "metadata": {},
   "source": [
    "# WeatherPy\n",
    "----\n",
    "\n",
    "#### Note\n",
    "* Instructions have been included for each segment. You do not have to follow them exactly, but they are included to help you think through the steps."
   ]
  },
  {
   "cell_type": "code",
   "execution_count": 1,
   "metadata": {
    "scrolled": true
   },
   "outputs": [],
   "source": [
    "# Dependencies and Setup\n",
    "import matplotlib.pyplot as plt\n",
    "import pandas as pd\n",
    "import numpy as np\n",
    "import requests\n",
    "import time\n",
    "from scipy.stats import linregress\n",
    "\n",
    "# Import API key\n",
    "from api_keys import weather_api_key\n",
    "\n",
    "# Incorporated citipy to determine city based on latitude and longitude\n",
    "from citipy import citipy\n",
    "\n",
    "# Output File (CSV)\n",
    "output_data_file = \"output_data/cities.csv\"\n",
    "\n",
    "# Range of latitudes and longitudes\n",
    "lat_range = (-90, 90)\n",
    "lng_range = (-180, 180)"
   ]
  },
  {
   "cell_type": "markdown",
   "metadata": {},
   "source": [
    "## Generate Cities List"
   ]
  },
  {
   "cell_type": "code",
   "execution_count": 2,
   "metadata": {},
   "outputs": [
    {
     "data": {
      "text/plain": [
       "608"
      ]
     },
     "execution_count": 2,
     "metadata": {},
     "output_type": "execute_result"
    }
   ],
   "source": [
    "# List for holding lat_lngs and cities\n",
    "lat_lngs = []\n",
    "cities = []\n",
    "\n",
    "# Create a set of random lat and lng combinations\n",
    "lats = np.random.uniform(lat_range[0], lat_range[1], size=1500)\n",
    "lngs = np.random.uniform(lng_range[0], lng_range[1], size=1500)\n",
    "lat_lngs = zip(lats, lngs)\n",
    "\n",
    "# Identify nearest city for each lat, lng combination\n",
    "for lat_lng in lat_lngs:\n",
    "    city = citipy.nearest_city(lat_lng[0], lat_lng[1]).city_name\n",
    "    \n",
    "    # If the city is unique, then add it to a our cities list\n",
    "    if city not in cities:\n",
    "        cities.append(city)\n",
    "\n",
    "# Print the city count to confirm sufficient count\n",
    "len(cities)\n"
   ]
  },
  {
   "cell_type": "markdown",
   "metadata": {},
   "source": [
    "### Perform API Calls\n",
    "* Perform a weather check on each city using a series of successive API calls.\n",
    "* Include a print log of each city as it'sbeing processed (with the city number and city name).\n"
   ]
  },
  {
   "cell_type": "code",
   "execution_count": 3,
   "metadata": {
    "scrolled": true
   },
   "outputs": [
    {
     "name": "stdout",
     "output_type": "stream",
     "text": [
      "The weather in Bredasdorp (ID number:1015776) today is clear sky.\n",
      "The weather in Rikitea (ID number:4030556) today is overcast clouds.\n",
      "The weather in Ushuaia (ID number:3833367) today is clear sky.\n",
      "The weather in Atuona (ID number:4020109) today is scattered clouds.\n",
      "The weather in Nishihara (ID number:1855342) today is broken clouds.\n",
      "The weather in Hermanus (ID number:3366880) today is clear sky.\n",
      "The weather in Aklavik (ID number:5882953) today is scattered clouds.\n",
      "The weather in Longyearbyen (ID number:2729907) today is broken clouds.\n",
      "The weather in Henties Bay (ID number:3356832) today is clear sky.\n",
      "The weather in New Norfolk (ID number:2155415) today is scattered clouds.\n",
      "The weather in Lüderitz (ID number:3355672) today is clear sky.\n",
      "The weather in Ippy (ID number:238566) today is overcast clouds.\n",
      "The weather in Mahébourg (ID number:934322) today is shower rain.\n",
      "The weather in Khatanga (ID number:2022572) today is overcast clouds.\n",
      "The weather in Oktyabr'skiy (ID number:515879) today is broken clouds.\n",
      "The weather in George Town (ID number:1735106) today is few clouds.\n",
      "Cannot retrieve weather for barentsburg.\n",
      "The weather in Bosaso (ID number:64013) today is overcast clouds.\n",
      "The weather in Meulaboh (ID number:1214488) today is overcast clouds.\n",
      "The weather in Hambantota (ID number:1244926) today is scattered clouds.\n",
      "The weather in Qaanaaq (ID number:3831208) today is clear sky.\n",
      "The weather in Karratha (ID number:6620339) today is clear sky.\n",
      "The weather in Lebu (ID number:3883457) today is light rain.\n",
      "The weather in Urdoma (ID number:478769) today is clear sky.\n",
      "The weather in Talara (ID number:3691582) today is scattered clouds.\n",
      "Cannot retrieve weather for umzimvubu.\n",
      "Cannot retrieve weather for grand river south east.\n",
      "The weather in Oktyabr'skoye (ID number:515805) today is light rain.\n",
      "The weather in Terrace Bay (ID number:6162951) today is clear sky.\n",
      "The weather in Albany (ID number:5106841) today is scattered clouds.\n",
      "Cannot retrieve weather for illoqqortoormiut.\n",
      "The weather in Hofn (ID number:2630299) today is scattered clouds.\n",
      "The weather in Geraldton (ID number:2070998) today is broken clouds.\n",
      "The weather in Yumen (ID number:1528998) today is overcast clouds.\n",
      "The weather in Riyadh (ID number:108410) today is few clouds.\n",
      "The weather in Atar (ID number:2381334) today is clear sky.\n",
      "The weather in Severodvinsk (ID number:496285) today is clear sky.\n",
      "The weather in Casper (ID number:5820705) today is clear sky.\n",
      "The weather in Ust'-Omchug (ID number:2120047) today is few clouds.\n",
      "The weather in Yamada (ID number:2110560) today is few clouds.\n",
      "The weather in Bambous Virieux (ID number:1106677) today is shower rain.\n",
      "The weather in ‘Ewa Beach (ID number:5855051) today is broken clouds.\n",
      "The weather in Viedma (ID number:3832899) today is clear sky.\n",
      "The weather in Srednekolymsk (ID number:2121025) today is few clouds.\n",
      "The weather in Souillac (ID number:933995) today is shower rain.\n",
      "Cannot retrieve weather for tabukiniberu.\n",
      "The weather in Arraial do Cabo (ID number:3471451) today is scattered clouds.\n",
      "The weather in Raudeberg (ID number:3146487) today is broken clouds.\n",
      "The weather in Thompson (ID number:6165406) today is light intensity shower rain.\n",
      "The weather in Pevek (ID number:2122090) today is overcast clouds.\n",
      "The weather in Kologriv (ID number:546282) today is clear sky.\n",
      "The weather in Mar del Plata (ID number:3430863) today is moderate rain.\n",
      "The weather in Tiksi (ID number:2015306) today is overcast clouds.\n",
      "The weather in Mataura (ID number:6201424) today is clear sky.\n",
      "The weather in Puerto Ayacucho (ID number:3629710) today is moderate rain.\n",
      "The weather in Hobart (ID number:2163355) today is few clouds.\n",
      "The weather in Mount Isa (ID number:2065594) today is clear sky.\n",
      "Cannot retrieve weather for taolanaro.\n",
      "The weather in Hamilton (ID number:4513583) today is clear sky.\n",
      "The weather in Florø (ID number:3156980) today is fog.\n",
      "The weather in Norman Wells (ID number:6089245) today is broken clouds.\n",
      "The weather in Choya (ID number:1507745) today is light rain.\n",
      "The weather in Punta Arenas (ID number:3874787) today is clear sky.\n",
      "The weather in Ambulu (ID number:1621313) today is clear sky.\n",
      "The weather in Bukachacha (ID number:2026023) today is scattered clouds.\n",
      "The weather in Nikolskoye (ID number:546105) today is clear sky.\n",
      "The weather in Busselton (ID number:2075265) today is light rain.\n",
      "The weather in Praia (ID number:3374333) today is haze.\n",
      "The weather in Saldanha (ID number:3361934) today is clear sky.\n",
      "The weather in Tongzi (ID number:1799686) today is overcast clouds.\n",
      "The weather in Uruguaiana (ID number:3445679) today is overcast clouds.\n",
      "The weather in Chokurdakh (ID number:2126123) today is clear sky.\n",
      "The weather in Kaitangata (ID number:2208248) today is scattered clouds.\n",
      "The weather in Kamaishi (ID number:2112444) today is scattered clouds.\n",
      "The weather in Leshan (ID number:1804153) today is overcast clouds.\n",
      "The weather in Vaini (ID number:4032243) today is scattered clouds.\n",
      "The weather in Shanhecun (ID number:2034995) today is clear sky.\n",
      "The weather in Vestmannaeyjar (ID number:3412093) today is overcast clouds.\n",
      "The weather in Kahului (ID number:5847411) today is few clouds.\n",
      "The weather in Ende (ID number:1644932) today is overcast clouds.\n",
      "The weather in Bagotville (ID number:2177254) today is overcast clouds.\n",
      "The weather in Langreo (ID number:3110962) today is overcast clouds.\n",
      "The weather in Conde (ID number:3385077) today is clear sky.\n",
      "The weather in Roald (ID number:3141667) today is clear sky.\n",
      "The weather in Bafatá (ID number:2375255) today is overcast clouds.\n",
      "The weather in Bengkulu (ID number:1649150) today is overcast clouds.\n",
      "The weather in Grand-Santi (ID number:3381538) today is light rain.\n",
      "The weather in Kavieng (ID number:2094342) today is few clouds.\n",
      "The weather in Lagos (ID number:2332453) today is thunderstorm with light rain.\n",
      "The weather in Zyryanka (ID number:2119283) today is broken clouds.\n",
      "The weather in Talcahuano (ID number:3870282) today is overcast clouds.\n",
      "The weather in Fortuna (ID number:5563839) today is few clouds.\n",
      "The weather in East London (ID number:1006984) today is clear sky.\n",
      "The weather in Talnakh (ID number:1490256) today is overcast clouds.\n",
      "The weather in Saskylakh (ID number:2017155) today is broken clouds.\n",
      "The weather in Ribeira Grande (ID number:3372707) today is overcast clouds.\n",
      "The weather in Pascagoula (ID number:4440397) today is broken clouds.\n",
      "The weather in Arlit (ID number:2447513) today is clear sky.\n",
      "The weather in Hilo (ID number:5855927) today is few clouds.\n",
      "The weather in Lubań (ID number:3093040) today is overcast clouds.\n",
      "The weather in Coquimbo (ID number:3893629) today is broken clouds.\n",
      "The weather in Bluff (ID number:2206939) today is clear sky.\n",
      "The weather in Eydhafushi (ID number:1337606) today is broken clouds.\n",
      "The weather in Wagar (ID number:364027) today is broken clouds.\n",
      "The weather in Leningradskiy (ID number:2123814) today is overcast clouds.\n",
      "The weather in Avera (ID number:4231997) today is clear sky.\n",
      "The weather in Burnie (ID number:2173125) today is overcast clouds.\n",
      "Cannot retrieve weather for bolungarvik.\n",
      "The weather in San Jerónimo (ID number:3929611) today is overcast clouds.\n",
      "The weather in Ilulissat (ID number:3423146) today is clear sky.\n",
      "The weather in Rosarito (ID number:3988392) today is scattered clouds.\n",
      "The weather in Vila Velha (ID number:3445026) today is moderate rain.\n",
      "The weather in Revda (ID number:502011) today is overcast clouds.\n",
      "The weather in Winslow (ID number:5321473) today is clear sky.\n",
      "The weather in Blagoveshchenka (ID number:1509999) today is overcast clouds.\n",
      "The weather in Yellowknife (ID number:6185377) today is scattered clouds.\n",
      "The weather in Pidigan (ID number:1693935) today is scattered clouds.\n",
      "The weather in Tiznit Province (ID number:2527087) today is clear sky.\n",
      "The weather in Muros (ID number:3115824) today is clear sky.\n",
      "The weather in Tuktoyaktuk (ID number:6170031) today is mist.\n",
      "The weather in Port Alfred (ID number:964432) today is clear sky.\n",
      "The weather in Alta Floresta (ID number:6316343) today is clear sky.\n",
      "The weather in Airai (ID number:1651810) today is overcast clouds.\n",
      "The weather in Gigmoto (ID number:1712961) today is light rain.\n",
      "The weather in Pundaguitan (ID number:1698289) today is overcast clouds.\n"
     ]
    },
    {
     "name": "stdout",
     "output_type": "stream",
     "text": [
      "The weather in Rio Grande (ID number:3451138) today is overcast clouds.\n",
      "The weather in Castro (ID number:3466704) today is broken clouds.\n",
      "The weather in Sitka (ID number:5557293) today is light rain.\n",
      "The weather in Bethel (ID number:5282297) today is clear sky.\n",
      "The weather in Butaritari (ID number:2110227) today is few clouds.\n",
      "The weather in Seoul (ID number:1835848) today is overcast clouds.\n",
      "The weather in Shumskiy (ID number:1491977) today is clear sky.\n",
      "The weather in Acapulco de Juárez (ID number:3533462) today is broken clouds.\n",
      "The weather in Jamestown (ID number:5122534) today is few clouds.\n",
      "The weather in Auki (ID number:2109701) today is few clouds.\n",
      "The weather in Contamana (ID number:3697838) today is clear sky.\n",
      "Cannot retrieve weather for grand centre.\n",
      "The weather in Guerrero Negro (ID number:4021858) today is clear sky.\n",
      "The weather in Saint George (ID number:5546220) today is clear sky.\n",
      "The weather in Hong Kong (ID number:1819729) today is heavy intensity rain.\n",
      "The weather in Itoman (ID number:1861280) today is broken clouds.\n",
      "The weather in Avarua (ID number:4035715) today is light rain.\n",
      "The weather in Dikson (ID number:1507390) today is few clouds.\n",
      "The weather in Puerto Ayora (ID number:3652764) today is broken clouds.\n",
      "The weather in Whitehorse (ID number:6180550) today is broken clouds.\n",
      "The weather in Cape Town (ID number:3369157) today is clear sky.\n",
      "The weather in Ahipara (ID number:2194098) today is clear sky.\n",
      "The weather in Sterling (ID number:4787534) today is light rain.\n",
      "The weather in Barrow (ID number:5880054) today is clear sky.\n",
      "The weather in Tawang Town (ID number:1254832) today is moderate rain.\n",
      "The weather in Pokhara (ID number:1282898) today is light rain.\n",
      "The weather in Iqaluit (ID number:5983720) today is broken clouds.\n",
      "Cannot retrieve weather for vaitupu.\n",
      "The weather in Lazarev (ID number:2123836) today is light rain.\n",
      "The weather in Havre-St-Pierre (ID number:5972291) today is overcast clouds.\n",
      "Cannot retrieve weather for nguiu.\n",
      "The weather in College (ID number:5859699) today is broken clouds.\n",
      "The weather in Richards Bay (ID number:962367) today is moderate rain.\n",
      "The weather in Victor Harbor (ID number:2059470) today is scattered clouds.\n",
      "The weather in Arrondissement de Vannes (ID number:2970775) today is mist.\n",
      "The weather in Kitakata (ID number:1859319) today is broken clouds.\n",
      "The weather in Karjat (ID number:1267742) today is haze.\n",
      "The weather in Jumla (ID number:1283285) today is broken clouds.\n",
      "The weather in Palmer (ID number:4946620) today is scattered clouds.\n",
      "The weather in Kruisfontein (ID number:986717) today is clear sky.\n",
      "The weather in Afuá (ID number:3408269) today is light rain.\n",
      "The weather in Grenville (ID number:3580236) today is few clouds.\n",
      "The weather in Constitución (ID number:3893726) today is light rain.\n",
      "The weather in Torbay (ID number:6167817) today is overcast clouds.\n",
      "The weather in Saint-Pierre (ID number:935214) today is clear sky.\n",
      "The weather in Bathsheba (ID number:3374083) today is few clouds.\n",
      "The weather in Murdochville (ID number:6943820) today is overcast clouds.\n",
      "The weather in Tonstad (ID number:3134327) today is scattered clouds.\n",
      "The weather in Kirakira (ID number:2178753) today is light rain.\n",
      "The weather in Coruripe (ID number:3465329) today is clear sky.\n",
      "The weather in Payo (ID number:1638775) today is overcast clouds.\n",
      "The weather in Toccoa (ID number:4226722) today is light intensity drizzle.\n",
      "The weather in Satānā (ID number:1257060) today is overcast clouds.\n",
      "The weather in Port Elizabeth (ID number:964420) today is clear sky.\n",
      "The weather in Ulaanbaatar (ID number:2028462) today is few clouds.\n",
      "The weather in Asău (ID number:686090) today is clear sky.\n",
      "The weather in Pacific Grove (ID number:5380437) today is clear sky.\n",
      "The weather in Palembang (ID number:1633070) today is overcast clouds.\n",
      "The weather in Broome (ID number:5110365) today is clear sky.\n",
      "Cannot retrieve weather for tabiauea.\n",
      "The weather in Cayenne (ID number:3382160) today is broken clouds.\n",
      "The weather in Orangeburg (ID number:4590184) today is broken clouds.\n",
      "Cannot retrieve weather for samusu.\n",
      "The weather in Coahuayana Viejo (ID number:4013679) today is clear sky.\n",
      "The weather in Aquiraz (ID number:3407407) today is broken clouds.\n",
      "The weather in Ereymentau (ID number:1524302) today is clear sky.\n",
      "The weather in Wanning (ID number:1791779) today is light rain.\n",
      "The weather in Saint-Philippe (ID number:935215) today is light rain.\n",
      "The weather in Pulandian (ID number:1798490) today is overcast clouds.\n",
      "The weather in Ust'-Kalmanka (ID number:1488200) today is overcast clouds.\n",
      "The weather in Carnarvon (ID number:2074865) today is overcast clouds.\n",
      "The weather in Emba (ID number:609924) today is clear sky.\n",
      "The weather in Rancho Palos Verdes (ID number:5386035) today is clear sky.\n",
      "The weather in São Filipe (ID number:3374210) today is clear sky.\n",
      "The weather in Bālāghāt (ID number:1277661) today is overcast clouds.\n",
      "The weather in Lensk (ID number:2020838) today is light rain.\n",
      "The weather in Half Moon Bay (ID number:5354943) today is clear sky.\n",
      "The weather in Dzilam González (ID number:3529654) today is light rain.\n",
      "The weather in Pointe-Noire (ID number:2255414) today is clear sky.\n",
      "The weather in Barranca (ID number:3946820) today is broken clouds.\n",
      "The weather in Southaven (ID number:4446675) today is few clouds.\n",
      "The weather in Hirara (ID number:1862505) today is broken clouds.\n",
      "The weather in Luganville (ID number:2136150) today is overcast clouds.\n",
      "The weather in Ilebo (ID number:215976) today is few clouds.\n",
      "The weather in Hasaki (ID number:2112802) today is broken clouds.\n",
      "The weather in Laas (ID number:3175096) today is fog.\n",
      "The weather in Toora-Khem (ID number:1489401) today is clear sky.\n",
      "The weather in Kavaratti (ID number:1267390) today is overcast clouds.\n",
      "The weather in Najrān (ID number:103630) today is few clouds.\n",
      "The weather in Buckeye (ID number:5287262) today is clear sky.\n",
      "The weather in Beyneu (ID number:610298) today is clear sky.\n",
      "Cannot retrieve weather for tsihombe.\n",
      "The weather in Sorong (ID number:1626542) today is clear sky.\n",
      "The weather in Touros (ID number:3386213) today is few clouds.\n",
      "The weather in Almora (ID number:1278974) today is light rain.\n",
      "Cannot retrieve weather for marcona.\n",
      "The weather in Puerto Baquerizo Moreno (ID number:3652758) today is scattered clouds.\n",
      "The weather in Kalemie (ID number:214974) today is clear sky.\n",
      "The weather in Huinan (ID number:2036685) today is overcast clouds.\n",
      "The weather in Serebryansk (ID number:1519395) today is broken clouds.\n",
      "Cannot retrieve weather for belushya guba.\n",
      "The weather in Nemuro (ID number:2128975) today is broken clouds.\n",
      "The weather in Ponta do Sol (ID number:2264557) today is few clouds.\n",
      "The weather in Kiryat Gat (ID number:293842) today is clear sky.\n",
      "The weather in Orlik (ID number:1496073) today is few clouds.\n",
      "Cannot retrieve weather for mys shmidta.\n",
      "The weather in Oddur (ID number:49747) today is broken clouds.\n",
      "The weather in Saint Paul Harbor (ID number:5866583) today is light rain.\n",
      "The weather in Seminole (ID number:4172445) today is scattered clouds.\n",
      "Cannot retrieve weather for karamea.\n",
      "The weather in Saint-Joseph (ID number:6690296) today is broken clouds.\n",
      "The weather in Palekastro (ID number:256155) today is clear sky.\n",
      "The weather in Kerema (ID number:2094144) today is few clouds.\n",
      "The weather in Kapaa (ID number:5848280) today is broken clouds.\n",
      "The weather in La Palma (ID number:5364022) today is clear sky.\n",
      "Cannot retrieve weather for kamenskoye.\n",
      "The weather in Evensk (ID number:2125693) today is clear sky.\n",
      "The weather in Hithadhoo (ID number:1282256) today is clear sky.\n",
      "The weather in Isangel (ID number:2136825) today is scattered clouds.\n",
      "The weather in Esim (ID number:2303611) today is light rain.\n",
      "The weather in Bay Roberts (ID number:5895424) today is overcast clouds.\n",
      "The weather in Tanout (ID number:2439155) today is overcast clouds.\n",
      "The weather in Tasiilaq (ID number:3424607) today is light rain.\n",
      "The weather in Bowen (ID number:2174444) today is overcast clouds.\n",
      "The weather in Aykhal (ID number:2027296) today is broken clouds.\n",
      "The weather in Maceió (ID number:3395981) today is scattered clouds.\n",
      "The weather in Samarai (ID number:2132606) today is light rain.\n"
     ]
    },
    {
     "name": "stdout",
     "output_type": "stream",
     "text": [
      "The weather in Lata (ID number:2738381) today is few clouds.\n",
      "The weather in Skjervøy (ID number:777682) today is clear sky.\n",
      "The weather in Cockburn Town (ID number:3576994) today is clear sky.\n",
      "The weather in Cedral (ID number:4014914) today is overcast clouds.\n",
      "The weather in Japura (ID number:1642773) today is broken clouds.\n",
      "The weather in Ixtapa (ID number:4004293) today is few clouds.\n",
      "The weather in Suntar (ID number:2015913) today is light rain.\n",
      "The weather in Etchoropo (ID number:4006387) today is clear sky.\n",
      "The weather in Baoding (ID number:1816971) today is scattered clouds.\n",
      "The weather in Tateyama (ID number:1850523) today is broken clouds.\n",
      "The weather in Bollnäs (ID number:2720679) today is scattered clouds.\n",
      "The weather in Ancud (ID number:3899695) today is overcast clouds.\n",
      "The weather in Ciudad Bolivar (ID number:3645532) today is light rain.\n",
      "The weather in Namatanai (ID number:2090021) today is clear sky.\n",
      "The weather in Ndendé (ID number:2397614) today is broken clouds.\n",
      "The weather in Vila Franca do Campo (ID number:3372472) today is scattered clouds.\n",
      "The weather in Meadow Lake (ID number:5478673) today is clear sky.\n",
      "The weather in Dicabisagan (ID number:1715015) today is overcast clouds.\n",
      "Cannot retrieve weather for nizhneyansk.\n",
      "The weather in Upernavik (ID number:3418910) today is clear sky.\n",
      "The weather in Lorengau (ID number:2092164) today is few clouds.\n",
      "The weather in Paka (ID number:1734313) today is few clouds.\n",
      "The weather in Agüimes (ID number:2522325) today is few clouds.\n",
      "The weather in Bandrele (ID number:1090397) today is few clouds.\n",
      "The weather in Paita (ID number:3694112) today is clear sky.\n",
      "The weather in Port Lincoln (ID number:2063036) today is overcast clouds.\n",
      "The weather in Shimoda (ID number:1852357) today is broken clouds.\n",
      "The weather in Brigantine (ID number:4500920) today is overcast clouds.\n",
      "The weather in Umm Kaddadah (ID number:364933) today is overcast clouds.\n",
      "The weather in Svetlaya (ID number:2015852) today is overcast clouds.\n",
      "The weather in Lompoc (ID number:5367788) today is clear sky.\n",
      "The weather in Tura (ID number:1254046) today is moderate rain.\n",
      "The weather in Lagoa (ID number:3372964) today is overcast clouds.\n",
      "Cannot retrieve weather for la uribe.\n",
      "The weather in Cidreira (ID number:3466165) today is scattered clouds.\n",
      "The weather in North Battleford (ID number:6089404) today is overcast clouds.\n",
      "The weather in Tilichiki (ID number:2120591) today is scattered clouds.\n",
      "The weather in Alofi (ID number:4036284) today is scattered clouds.\n",
      "The weather in Bayeux (ID number:3405940) today is clear sky.\n",
      "The weather in Waddān (ID number:2209055) today is clear sky.\n",
      "The weather in Sivaki (ID number:2016477) today is clear sky.\n",
      "The weather in Egvekinot (ID number:4031742) today is scattered clouds.\n",
      "The weather in Mount Gambier (ID number:2156643) today is broken clouds.\n",
      "The weather in Itarema (ID number:3393692) today is light rain.\n",
      "The weather in Fairbanks (ID number:5861897) today is few clouds.\n",
      "The weather in Chauk (ID number:1327659) today is light rain.\n",
      "The weather in San Fernando del Valle de Catamarca (ID number:3837702) today is clear sky.\n",
      "Cannot retrieve weather for sinkat.\n",
      "The weather in Faanui (ID number:4034551) today is overcast clouds.\n",
      "The weather in San Cristobal (ID number:3628473) today is few clouds.\n",
      "The weather in Lichinga (ID number:1043893) today is scattered clouds.\n",
      "The weather in Terrace (ID number:6162949) today is broken clouds.\n",
      "The weather in Guymon (ID number:5515743) today is clear sky.\n",
      "The weather in San Roque (ID number:2511239) today is clear sky.\n",
      "The weather in Chui (ID number:3443061) today is overcast clouds.\n",
      "The weather in Troitsko-Pechorsk (ID number:481548) today is clear sky.\n",
      "The weather in George Town (ID number:1735106) today is few clouds.\n",
      "The weather in Vanavara (ID number:2013727) today is overcast clouds.\n",
      "The weather in Juba (ID number:373303) today is light rain.\n",
      "The weather in Boende (ID number:218680) today is overcast clouds.\n",
      "The weather in St. George's (ID number:3579925) today is few clouds.\n",
      "The weather in Kailua (ID number:5847486) today is broken clouds.\n",
      "The weather in Garoowe (ID number:58933) today is scattered clouds.\n",
      "The weather in Elko (ID number:5703673) today is clear sky.\n",
      "The weather in San Cosme y Damián (ID number:3437107) today is overcast clouds.\n",
      "The weather in Formosa do Rio Preto (ID number:3463124) today is scattered clouds.\n",
      "The weather in Ormara (ID number:1168700) today is scattered clouds.\n",
      "The weather in Den Helder (ID number:2757220) today is overcast clouds.\n",
      "The weather in Panabá (ID number:3521972) today is overcast clouds.\n",
      "The weather in Lihula (ID number:590657) today is light rain.\n",
      "The weather in Carmarthen (ID number:2653755) today is overcast clouds.\n",
      "The weather in Petropavlovsk-Kamchatskiy (ID number:2122104) today is few clouds.\n",
      "The weather in Davila (ID number:1715335) today is scattered clouds.\n",
      "The weather in Sokolo (ID number:2450849) today is few clouds.\n",
      "The weather in Sol'vychegodsk (ID number:490743) today is clear sky.\n",
      "The weather in Port Hardy (ID number:6111862) today is broken clouds.\n",
      "The weather in Kudahuvadhoo (ID number:1337607) today is broken clouds.\n",
      "The weather in Bhisho (ID number:1019330) today is clear sky.\n",
      "The weather in Tanhaçu (ID number:3446971) today is overcast clouds.\n",
      "Cannot retrieve weather for samalaeulu.\n",
      "The weather in Anadyr (ID number:2127202) today is few clouds.\n",
      "The weather in Taber (ID number:6160919) today is light intensity shower rain.\n",
      "The weather in Yar-Sale (ID number:1486321) today is scattered clouds.\n",
      "The weather in Alice Springs (ID number:2077895) today is clear sky.\n",
      "The weather in La Ronge (ID number:6050066) today is overcast clouds.\n",
      "The weather in Shambu (ID number:328709) today is light rain.\n",
      "The weather in Beni Suef (ID number:359173) today is clear sky.\n",
      "The weather in Bafoulabé (ID number:2460755) today is overcast clouds.\n",
      "The weather in Caravelas (ID number:3466980) today is scattered clouds.\n",
      "Cannot retrieve weather for palabuhanratu.\n",
      "The weather in West Monroe (ID number:4345850) today is clear sky.\n",
      "The weather in Edd (ID number:338345) today is few clouds.\n",
      "The weather in Aketi (ID number:220448) today is overcast clouds.\n",
      "The weather in Shurugwi (ID number:881164) today is light rain.\n",
      "Cannot retrieve weather for tunduru.\n",
      "The weather in Eyl (ID number:60019) today is clear sky.\n",
      "The weather in Provideniya (ID number:4031574) today is clear sky.\n",
      "The weather in Zeya (ID number:2012593) today is few clouds.\n",
      "Cannot retrieve weather for saleaula.\n",
      "The weather in Kargopol' (ID number:552465) today is clear sky.\n",
      "The weather in Caxito (ID number:2242001) today is broken clouds.\n",
      "The weather in Severo-Kuril'sk (ID number:2121385) today is overcast clouds.\n",
      "The weather in Aswān (ID number:359792) today is clear sky.\n",
      "The weather in Mayo (ID number:4362001) today is overcast clouds.\n",
      "The weather in Naze (ID number:1855540) today is broken clouds.\n",
      "The weather in Mackay (ID number:2159220) today is broken clouds.\n",
      "The weather in Vredendal (ID number:3359736) today is clear sky.\n",
      "The weather in Khovd (ID number:1516048) today is overcast clouds.\n",
      "The weather in Bayangol (ID number:2027002) today is overcast clouds.\n",
      "The weather in Şabyā (ID number:102651) today is overcast clouds.\n",
      "The weather in Nanortalik (ID number:3421765) today is broken clouds.\n",
      "The weather in Dessie (ID number:339219) today is overcast clouds.\n",
      "The weather in Dzerzhinsk (ID number:563708) today is scattered clouds.\n",
      "The weather in Beringovskiy (ID number:2126710) today is clear sky.\n",
      "The weather in Cururupu (ID number:3401148) today is scattered clouds.\n",
      "The weather in Indiana (ID number:4921868) today is clear sky.\n",
      "The weather in Bulungu (ID number:2316259) today is scattered clouds.\n",
      "The weather in Codrington (ID number:2171099) today is overcast clouds.\n",
      "The weather in Pabradė (ID number:596473) today is clear sky.\n",
      "The weather in Karpathos (ID number:260895) today is clear sky.\n",
      "The weather in Kupang (ID number:2057087) today is few clouds.\n",
      "The weather in Saint-Louis (ID number:2246451) today is clear sky.\n",
      "The weather in Ondangwa (ID number:3354247) today is clear sky.\n",
      "Cannot retrieve weather for lolua.\n",
      "The weather in Humaitá (ID number:3664078) today is broken clouds.\n"
     ]
    },
    {
     "name": "stdout",
     "output_type": "stream",
     "text": [
      "The weather in Luwuk (ID number:1637001) today is moderate rain.\n",
      "The weather in Noumea (ID number:2139521) today is overcast clouds.\n",
      "The weather in Poronaysk (ID number:2121909) today is light rain.\n",
      "The weather in Ascension (ID number:4315067) today is scattered clouds.\n",
      "The weather in Westport (ID number:4845585) today is scattered clouds.\n",
      "The weather in Portland (ID number:5746545) today is broken clouds.\n",
      "The weather in Quartucciu (ID number:2523666) today is clear sky.\n",
      "The weather in Baykit (ID number:1510689) today is broken clouds.\n",
      "The weather in San Quintín (ID number:3984997) today is clear sky.\n",
      "The weather in Corn Island (ID number:3620266) today is light rain.\n",
      "The weather in Labuhan (ID number:8079926) today is clear sky.\n",
      "The weather in Dalbandin (ID number:1180729) today is clear sky.\n",
      "Cannot retrieve weather for skalistyy.\n",
      "The weather in Atasū (ID number:1526041) today is broken clouds.\n",
      "The weather in Chicama (ID number:3698359) today is clear sky.\n",
      "The weather in Korčula (ID number:3197710) today is few clouds.\n",
      "The weather in Chegutu (ID number:894239) today is clear sky.\n",
      "The weather in Tindivanam (ID number:1254444) today is overcast clouds.\n",
      "The weather in Murray Bridge (ID number:2065176) today is clear sky.\n",
      "The weather in Katsuura (ID number:2112309) today is overcast clouds.\n",
      "The weather in Sistranda (ID number:3139597) today is few clouds.\n",
      "The weather in Dauphin (ID number:5935341) today is clear sky.\n",
      "The weather in Cacoal (ID number:3925212) today is clear sky.\n",
      "The weather in Coyhaique (ID number:3894426) today is overcast clouds.\n",
      "The weather in The Valley (ID number:3573374) today is few clouds.\n",
      "The weather in Pojuca (ID number:3466641) today is shower rain.\n",
      "The weather in Edéa (ID number:2232239) today is scattered clouds.\n",
      "The weather in Mehamn (ID number:778707) today is overcast clouds.\n",
      "The weather in Nuuk (ID number:3421319) today is broken clouds.\n",
      "The weather in Puerto Nariño (ID number:3671387) today is scattered clouds.\n",
      "The weather in Nyurba (ID number:2018735) today is overcast clouds.\n",
      "The weather in Katangli (ID number:2122783) today is overcast clouds.\n",
      "The weather in Klyuchi (ID number:1503153) today is overcast clouds.\n",
      "The weather in Behbahān (ID number:140951) today is clear sky.\n",
      "The weather in Tuatapere (ID number:2180815) today is clear sky.\n",
      "The weather in Santa Rita (ID number:3389321) today is clear sky.\n",
      "The weather in Maun (ID number:933366) today is clear sky.\n",
      "The weather in Port Keats (ID number:2063039) today is clear sky.\n",
      "The weather in George (ID number:1002145) today is clear sky.\n",
      "The weather in El'brus (ID number:563534) today is overcast clouds.\n",
      "The weather in Urubichá (ID number:3901969) today is clear sky.\n",
      "The weather in Seydi (ID number:1218420) today is clear sky.\n",
      "The weather in Balkhash (ID number:1525798) today is clear sky.\n",
      "The weather in Machala (ID number:3654533) today is broken clouds.\n",
      "The weather in Aksarka (ID number:1512019) today is overcast clouds.\n",
      "The weather in Praia da Vitória (ID number:3372760) today is broken clouds.\n",
      "The weather in Ostrovnoy (ID number:556268) today is few clouds.\n",
      "Cannot retrieve weather for milingimbi.\n",
      "The weather in Sukumo (ID number:1851462) today is moderate rain.\n",
      "The weather in Jalu (ID number:86049) today is clear sky.\n",
      "The weather in Manggar (ID number:1636426) today is moderate rain.\n",
      "The weather in Colombo (ID number:1248991) today is scattered clouds.\n",
      "The weather in Saint Anthony (ID number:5044290) today is clear sky.\n",
      "The weather in Dingle (ID number:1714733) today is moderate rain.\n",
      "The weather in Ponta Delgada (ID number:3372783) today is scattered clouds.\n",
      "The weather in Cherskiy (ID number:2126199) today is overcast clouds.\n",
      "The weather in Rūdsar (ID number:118191) today is few clouds.\n",
      "The weather in Yeniseysk (ID number:1485997) today is clear sky.\n",
      "The weather in Margate (ID number:2643044) today is moderate rain.\n",
      "The weather in High Level (ID number:5975004) today is broken clouds.\n",
      "The weather in Rørvik (ID number:3141310) today is broken clouds.\n",
      "The weather in Kamina (ID number:214614) today is clear sky.\n",
      "The weather in Xichang (ID number:1789647) today is moderate rain.\n",
      "The weather in Nantucket (ID number:4944903) today is fog.\n",
      "The weather in Marquette (ID number:5000950) today is clear sky.\n",
      "The weather in Azuaga (ID number:2521436) today is clear sky.\n",
      "The weather in Faya (ID number:110690) today is overcast clouds.\n",
      "The weather in Jasper (ID number:4392354) today is clear sky.\n",
      "Cannot retrieve weather for sentyabrskiy.\n",
      "The weather in Verkhoyansk (ID number:2013465) today is few clouds.\n",
      "The weather in Pangnirtung (ID number:6096551) today is broken clouds.\n",
      "Cannot retrieve weather for talah.\n",
      "The weather in Gornopravdinsk (ID number:1506268) today is scattered clouds.\n",
      "Cannot retrieve weather for amderma.\n",
      "The weather in Berlin (ID number:2950159) today is broken clouds.\n",
      "The weather in Carbonia (ID number:2525362) today is clear sky.\n",
      "The weather in Vestmanna (ID number:2610343) today is overcast clouds.\n",
      "The weather in Maţāy (ID number:352628) today is clear sky.\n",
      "The weather in Atambua (ID number:1651103) today is overcast clouds.\n",
      "The weather in San Bernardo (ID number:3872348) today is broken clouds.\n",
      "The weather in Longkou (ID number:1802550) today is overcast clouds.\n",
      "The weather in Saravan (ID number:174726) today is clear sky.\n",
      "The weather in Cerrito (ID number:3686907) today is light rain.\n",
      "The weather in Nicoya (ID number:3622716) today is moderate rain.\n",
      "The weather in Tomatlán (ID number:3981391) today is clear sky.\n",
      "The weather in Şurmān (ID number:2210560) today is clear sky.\n",
      "The weather in Laguna (ID number:5364271) today is clear sky.\n",
      "The weather in Marsá Maţrūḩ (ID number:352733) today is scattered clouds.\n",
      "The weather in Abapó (ID number:3924668) today is broken clouds.\n",
      "Cannot retrieve weather for karauzyak.\n",
      "The weather in Husavik (ID number:2629833) today is broken clouds.\n",
      "The weather in Dormidontovka (ID number:2022317) today is overcast clouds.\n",
      "The weather in Bull Savanna (ID number:3491161) today is overcast clouds.\n",
      "The weather in Hūn (ID number:2216645) today is clear sky.\n",
      "The weather in Bilma (ID number:2446796) today is clear sky.\n",
      "The weather in Hailar (ID number:2037078) today is few clouds.\n",
      "The weather in Warragul (ID number:2144604) today is broken clouds.\n",
      "The weather in Mezhova (ID number:701305) today is broken clouds.\n",
      "The weather in Esperance (ID number:2071860) today is overcast clouds.\n",
      "The weather in Berlevåg (ID number:780687) today is overcast clouds.\n",
      "The weather in Christchurch (ID number:2192362) today is light rain.\n",
      "Cannot retrieve weather for malwan.\n",
      "The weather in Sri Aman (ID number:1735799) today is light rain.\n",
      "The weather in Guarujá (ID number:3461789) today is clear sky.\n",
      "The weather in Kysyl-Syr (ID number:2021017) today is clear sky.\n",
      "The weather in Te Anau (ID number:2181625) today is few clouds.\n",
      "The weather in Calvià (ID number:2520493) today is light rain.\n",
      "The weather in Sinj (ID number:3190865) today is few clouds.\n",
      "The weather in Bocas del Toro (ID number:3713959) today is light rain.\n",
      "The weather in Mon (ID number:1262824) today is moderate rain.\n",
      "The weather in Aksu (ID number:1529660) today is overcast clouds.\n",
      "The weather in Dalvik (ID number:2632287) today is clear sky.\n",
      "The weather in Río Gallegos (ID number:3838859) today is fog.\n",
      "The weather in Jaen (ID number:2516394) today is clear sky.\n",
      "The weather in Okahandja (ID number:3354898) today is clear sky.\n",
      "Cannot retrieve weather for tumannyy.\n",
      "The weather in Sobolevo (ID number:525426) today is clear sky.\n",
      "The weather in Flinders (ID number:6255012) today is overcast clouds.\n",
      "The weather in San Miguel de Cozumel (ID number:3530103) today is overcast clouds.\n",
      "The weather in Bara (ID number:2347758) today is light rain.\n",
      "The weather in Chapais (ID number:5919850) today is clear sky.\n",
      "The weather in Chifeng (ID number:2038067) today is overcast clouds.\n",
      "The weather in Ichinohe (ID number:2129961) today is fog.\n",
      "The weather in Paamiut (ID number:3421193) today is overcast clouds.\n",
      "The weather in Yenagoa (ID number:2318123) today is light rain.\n",
      "The weather in Haines Junction (ID number:5969025) today is broken clouds.\n",
      "The weather in Vangaindrano (ID number:1054329) today is clear sky.\n"
     ]
    },
    {
     "name": "stdout",
     "output_type": "stream",
     "text": [
      "The weather in Ikungi (ID number:159267) today is scattered clouds.\n",
      "The weather in Rome (ID number:5134295) today is clear sky.\n",
      "The weather in Cabo San Lucas (ID number:3985710) today is scattered clouds.\n",
      "The weather in Terenos (ID number:3446619) today is few clouds.\n",
      "The weather in Pacifica (ID number:5380420) today is clear sky.\n",
      "The weather in Sept-Îles (ID number:6144312) today is broken clouds.\n",
      "The weather in Lokosovo (ID number:1500399) today is clear sky.\n",
      "The weather in Posse (ID number:3452599) today is clear sky.\n",
      "The weather in Neiafu (ID number:4032420) today is broken clouds.\n",
      "The weather in Shangrao (ID number:1787858) today is overcast clouds.\n",
      "The weather in Khorixas (ID number:3356213) today is clear sky.\n",
      "The weather in Mokhsogollokh (ID number:2019867) today is clear sky.\n",
      "Cannot retrieve weather for ngukurr.\n",
      "The weather in Mananara (ID number:1061412) today is light rain.\n",
      "The weather in Ifakara (ID number:159492) today is broken clouds.\n",
      "The weather in North Bend (ID number:5742974) today is clear sky.\n",
      "The weather in Salalah (ID number:286621) today is broken clouds.\n",
      "The weather in Shīeli (ID number:1524801) today is clear sky.\n",
      "The weather in Haimen (ID number:1809062) today is shower rain.\n",
      "Cannot retrieve weather for alotau.\n",
      "The weather in Ballina (ID number:2177069) today is overcast clouds.\n",
      "The weather in Yangi Marg`ilon (ID number:1513491) today is light rain.\n",
      "Cannot retrieve weather for temaraia.\n",
      "The weather in Oksovskiy (ID number:515966) today is clear sky.\n",
      "The weather in Makakilo City (ID number:5850554) today is few clouds.\n",
      "The weather in Tyup (ID number:1527121) today is clear sky.\n",
      "The weather in Bandarbeyla (ID number:64814) today is overcast clouds.\n",
      "The weather in Oranjestad (ID number:3577154) today is few clouds.\n",
      "The weather in Batagay (ID number:2027044) today is clear sky.\n",
      "The weather in Ranong (ID number:1150965) today is overcast clouds.\n",
      "The weather in Rawson (ID number:3839307) today is overcast clouds.\n",
      "The weather in Hollins (ID number:4764534) today is light rain.\n",
      "The weather in Kapuskasing (ID number:5989403) today is few clouds.\n",
      "Cannot retrieve weather for bargal.\n",
      "The weather in Arroio dos Ratos (ID number:3471425) today is overcast clouds.\n",
      "The weather in Straumen (ID number:3135728) today is broken clouds.\n",
      "The weather in Tessalit (ID number:2449893) today is clear sky.\n",
      "The weather in Lavrentiya (ID number:4031637) today is broken clouds.\n",
      "The weather in Narsaq (ID number:3421719) today is overcast clouds.\n",
      "The weather in Yarensk (ID number:468983) today is clear sky.\n",
      "The weather in Dunedin (ID number:2191562) today is scattered clouds.\n",
      "The weather in Klaksvík (ID number:2618795) today is overcast clouds.\n",
      "The weather in Tuy Hoa (ID number:1563281) today is clear sky.\n",
      "The weather in Hay River (ID number:5972762) today is broken clouds.\n",
      "The weather in Ilmajoki (ID number:656739) today is mist.\n",
      "The weather in Jishou (ID number:1805270) today is heavy intensity rain.\n",
      "The weather in Bairiki Village (ID number:7601762) today is broken clouds.\n",
      "The weather in Tual (ID number:1623197) today is few clouds.\n",
      "The weather in Peniche (ID number:2264923) today is clear sky.\n",
      "The weather in Ţahţā (ID number:347634) today is clear sky.\n",
      "Cannot retrieve weather for stoyba.\n",
      "The weather in Panzhihua (ID number:6929460) today is moderate rain.\n",
      "The weather in Bintulu (ID number:1737486) today is light rain.\n",
      "The weather in Elverum (ID number:3158300) today is clear sky.\n",
      "The weather in Port Blair (ID number:1259385) today is overcast clouds.\n",
      "The weather in Grand Gaube (ID number:934479) today is light rain.\n",
      "The weather in Great Yarmouth (ID number:2647984) today is light rain.\n",
      "The weather in Chimbarongo (ID number:3895061) today is overcast clouds.\n",
      "The weather in Kirksville (ID number:5055787) today is clear sky.\n",
      "Cannot retrieve weather for meyungs.\n",
      "The weather in Cap Malheureux (ID number:934649) today is light rain.\n",
      "The weather in Agustin Codazzi (ID number:3792383) today is broken clouds.\n",
      "The weather in Council Bluffs (ID number:4852832) today is clear sky.\n",
      "The weather in Walvis Bay (ID number:3359638) today is clear sky.\n",
      "The weather in Tongliao (ID number:2034400) today is overcast clouds.\n",
      "The weather in Tsimmerbude (ID number:485660) today is light rain.\n",
      "The weather in Mossamedes (ID number:3347019) today is clear sky.\n",
      "The weather in Garissa (ID number:197745) today is clear sky.\n",
      "The weather in Chemal (ID number:1508285) today is moderate rain.\n",
      "The weather in Santa Ana (ID number:5392900) today is clear sky.\n",
      "The weather in Santa Rosa (ID number:1687894) today is few clouds.\n",
      "The weather in Vrangel' (ID number:2013258) today is overcast clouds.\n",
      "The weather in Östersund (ID number:2685750) today is overcast clouds.\n",
      "Cannot retrieve weather for tubruq.\n",
      "The weather in Shache (ID number:1280037) today is clear sky.\n",
      "The weather in Varzob (ID number:1220197) today is clear sky.\n",
      "The weather in Khani (ID number:610864) today is light rain.\n",
      "The weather in Pastavy (ID number:623760) today is clear sky.\n",
      "The weather in San Isidro (ID number:3929631) today is overcast clouds.\n",
      "The weather in Burē (ID number:341397) today is overcast clouds.\n",
      "Cannot retrieve weather for satitoa.\n",
      "The weather in Nome (ID number:5870133) today is scattered clouds.\n",
      "Cannot retrieve weather for ust-kamchatsk.\n",
      "The weather in Yulara (ID number:6355222) today is clear sky.\n",
      "Cannot retrieve weather for louisbourg.\n",
      "The weather in Urusha (ID number:2014078) today is overcast clouds.\n",
      "The weather in Kumba (ID number:2229752) today is light rain.\n",
      "The weather in Statesboro (ID number:4224413) today is clear sky.\n",
      "The weather in Antalaha (ID number:1071296) today is broken clouds.\n",
      "The weather in Okha (ID number:2122614) today is overcast clouds.\n",
      "The weather in Stornoway (ID number:2636790) today is scattered clouds.\n",
      "The weather in Sur (ID number:286245) today is broken clouds.\n",
      "The weather in Prainha (ID number:3391287) today is overcast clouds.\n",
      "The weather in Neuquén (ID number:3843123) today is few clouds.\n",
      "The weather in Senneterre (ID number:6144195) today is few clouds.\n",
      "Cannot retrieve weather for gorno-chuyskiy.\n",
      "The weather in Champerico (ID number:3598787) today is overcast clouds.\n",
      "The weather in Taksimo (ID number:2015701) today is few clouds.\n",
      "The weather in Houma (ID number:4328010) today is clear sky.\n",
      "The weather in Shelton (ID number:4842898) today is scattered clouds.\n",
      "The weather in Leningradskaya (ID number:536200) today is clear sky.\n",
      "The weather in Pisco (ID number:3932145) today is mist.\n",
      "The weather in Nyūzen (ID number:1854868) today is overcast clouds.\n",
      "The weather in Kalāleh (ID number:129512) today is clear sky.\n"
     ]
    }
   ],
   "source": [
    "# View json for individual city\n",
    "\n",
    "test_url = f'https://api.openweathermap.org/data/2.5/weather?q=pimentel&appid={weather_api_key}'\n",
    "\n",
    "\n",
    "# Create a loop to print data for each city in the list of cities\n",
    "\n",
    "for city in cities:\n",
    "    query_url =  f'https://api.openweathermap.org/data/2.5/weather?q={city}&appid={weather_api_key}'\n",
    "    try:\n",
    "        data = requests.get(query_url).json()\n",
    "        weather = data['weather'][0]['description']\n",
    "        city_id_number = data['id']\n",
    "        city_name = data['name']\n",
    "        print(f'The weather in {city_name} (ID number:{city_id_number}) today is {weather}.')\n",
    "    except Exception:\n",
    "        print(f'Cannot retrieve weather for {city}.')\n",
    "    \n",
    "    \n",
    "    \n",
    "   \n",
    "        "
   ]
  },
  {
   "cell_type": "markdown",
   "metadata": {},
   "source": [
    "### Convert Raw Data to DataFrame\n",
    "* Export the city data into a .csv.\n",
    "* Display the DataFrame"
   ]
  },
  {
   "cell_type": "code",
   "execution_count": 4,
   "metadata": {},
   "outputs": [
    {
     "name": "stdout",
     "output_type": "stream",
     "text": [
      "barentsburg not found.\n",
      "umzimvubu not found.\n",
      "grand river south east not found.\n",
      "illoqqortoormiut not found.\n",
      "tabukiniberu not found.\n",
      "taolanaro not found.\n",
      "bolungarvik not found.\n",
      "grand centre not found.\n",
      "vaitupu not found.\n",
      "nguiu not found.\n",
      "tabiauea not found.\n",
      "samusu not found.\n",
      "tsihombe not found.\n",
      "marcona not found.\n",
      "belushya guba not found.\n",
      "mys shmidta not found.\n",
      "karamea not found.\n",
      "kamenskoye not found.\n",
      "nizhneyansk not found.\n",
      "la uribe not found.\n",
      "sinkat not found.\n",
      "samalaeulu not found.\n",
      "palabuhanratu not found.\n",
      "tunduru not found.\n",
      "saleaula not found.\n",
      "lolua not found.\n",
      "skalistyy not found.\n",
      "milingimbi not found.\n",
      "sentyabrskiy not found.\n",
      "talah not found.\n",
      "amderma not found.\n",
      "karauzyak not found.\n",
      "malwan not found.\n",
      "tumannyy not found.\n",
      "ngukurr not found.\n",
      "alotau not found.\n",
      "temaraia not found.\n",
      "bargal not found.\n",
      "stoyba not found.\n",
      "meyungs not found.\n",
      "tubruq not found.\n",
      "satitoa not found.\n",
      "ust-kamchatsk not found.\n",
      "louisbourg not found.\n",
      "gorno-chuyskiy not found.\n"
     ]
    }
   ],
   "source": [
    "# Create a loop to capture: City_ID, City, Cloudiness, Country,Date, Humidity, Lat, Lng, Max Temp, Wind Speed\n",
    "\n",
    "city_id_list = []\n",
    "city_name_list = []\n",
    "cloudiness_list = []\n",
    "country_name_list = []\n",
    "date_list = []\n",
    "humidity_list = []\n",
    "lat_list = []\n",
    "lng_list = []\n",
    "max_temp_list = []\n",
    "wind_speed_list = []\n",
    "\n",
    "# Loop through the list of cities and append the associated values to the empty lists above\n",
    "\n",
    "for city in cities:\n",
    "    query_url =  f'https://api.openweathermap.org/data/2.5/weather?q={city}&appid={weather_api_key}'\n",
    "    # Use the try/except block to skip any cities that aren't found without causing errors - print any cities not found\n",
    "    try:\n",
    "        data = requests.get(query_url).json()\n",
    "        city_id = data['id']\n",
    "        city_name = data['name']\n",
    "        cloudiness = data['clouds']['all']\n",
    "        country_name = data['sys']['country']\n",
    "        date = data['dt']\n",
    "        humidity = data['main']['humidity']\n",
    "        lat = data['coord']['lat']\n",
    "        lng = data['coord']['lon']\n",
    "        max_temp = data['main']['temp_max']\n",
    "        wind_speed = data['wind']['speed']\n",
    "        city_id_list.append(city_id)\n",
    "        city_name_list.append(city_name)\n",
    "        cloudiness_list.append(cloudiness)\n",
    "        country_name_list.append(country_name)\n",
    "        date_list.append(date)\n",
    "        humidity_list.append(humidity)\n",
    "        lat_list.append(lat)\n",
    "        lng_list.append(lng)\n",
    "        max_temp_list.append(max_temp)\n",
    "        wind_speed_list.append(wind_speed)\n",
    "    except Exception:\n",
    "        print(f'{city} not found.')\n",
    "        \n",
    "\n",
    "    "
   ]
  },
  {
   "cell_type": "code",
   "execution_count": 5,
   "metadata": {},
   "outputs": [
    {
     "data": {
      "text/html": [
       "<div>\n",
       "<style scoped>\n",
       "    .dataframe tbody tr th:only-of-type {\n",
       "        vertical-align: middle;\n",
       "    }\n",
       "\n",
       "    .dataframe tbody tr th {\n",
       "        vertical-align: top;\n",
       "    }\n",
       "\n",
       "    .dataframe thead th {\n",
       "        text-align: right;\n",
       "    }\n",
       "</style>\n",
       "<table border=\"1\" class=\"dataframe\">\n",
       "  <thead>\n",
       "    <tr style=\"text-align: right;\">\n",
       "      <th></th>\n",
       "      <th>City ID</th>\n",
       "      <th>City</th>\n",
       "      <th>Country</th>\n",
       "      <th>Date</th>\n",
       "      <th>Cloudiness</th>\n",
       "      <th>Humidity</th>\n",
       "      <th>Latitude</th>\n",
       "      <th>Longitude</th>\n",
       "      <th>Max Temp</th>\n",
       "      <th>Wind Speed</th>\n",
       "    </tr>\n",
       "  </thead>\n",
       "  <tbody>\n",
       "    <tr>\n",
       "      <th>0</th>\n",
       "      <td>1015776</td>\n",
       "      <td>Bredasdorp</td>\n",
       "      <td>ZA</td>\n",
       "      <td>1592446138</td>\n",
       "      <td>10</td>\n",
       "      <td>86</td>\n",
       "      <td>-34.53</td>\n",
       "      <td>20.04</td>\n",
       "      <td>277.15</td>\n",
       "      <td>2.35</td>\n",
       "    </tr>\n",
       "    <tr>\n",
       "      <th>1</th>\n",
       "      <td>4030556</td>\n",
       "      <td>Rikitea</td>\n",
       "      <td>PF</td>\n",
       "      <td>1592446138</td>\n",
       "      <td>100</td>\n",
       "      <td>84</td>\n",
       "      <td>-23.12</td>\n",
       "      <td>-134.97</td>\n",
       "      <td>297.34</td>\n",
       "      <td>7.72</td>\n",
       "    </tr>\n",
       "    <tr>\n",
       "      <th>2</th>\n",
       "      <td>3833367</td>\n",
       "      <td>Ushuaia</td>\n",
       "      <td>AR</td>\n",
       "      <td>1592446138</td>\n",
       "      <td>2</td>\n",
       "      <td>86</td>\n",
       "      <td>-54.80</td>\n",
       "      <td>-68.30</td>\n",
       "      <td>274.15</td>\n",
       "      <td>2.10</td>\n",
       "    </tr>\n",
       "    <tr>\n",
       "      <th>3</th>\n",
       "      <td>4020109</td>\n",
       "      <td>Atuona</td>\n",
       "      <td>PF</td>\n",
       "      <td>1592446138</td>\n",
       "      <td>42</td>\n",
       "      <td>72</td>\n",
       "      <td>-9.80</td>\n",
       "      <td>-139.03</td>\n",
       "      <td>300.27</td>\n",
       "      <td>6.05</td>\n",
       "    </tr>\n",
       "    <tr>\n",
       "      <th>4</th>\n",
       "      <td>1855342</td>\n",
       "      <td>Nishihara</td>\n",
       "      <td>JP</td>\n",
       "      <td>1592446016</td>\n",
       "      <td>75</td>\n",
       "      <td>74</td>\n",
       "      <td>26.18</td>\n",
       "      <td>127.76</td>\n",
       "      <td>304.15</td>\n",
       "      <td>7.70</td>\n",
       "    </tr>\n",
       "  </tbody>\n",
       "</table>\n",
       "</div>"
      ],
      "text/plain": [
       "   City ID        City Country        Date  Cloudiness  Humidity  Latitude  \\\n",
       "0  1015776  Bredasdorp      ZA  1592446138          10        86    -34.53   \n",
       "1  4030556     Rikitea      PF  1592446138         100        84    -23.12   \n",
       "2  3833367     Ushuaia      AR  1592446138           2        86    -54.80   \n",
       "3  4020109      Atuona      PF  1592446138          42        72     -9.80   \n",
       "4  1855342   Nishihara      JP  1592446016          75        74     26.18   \n",
       "\n",
       "   Longitude  Max Temp  Wind Speed  \n",
       "0      20.04    277.15        2.35  \n",
       "1    -134.97    297.34        7.72  \n",
       "2     -68.30    274.15        2.10  \n",
       "3    -139.03    300.27        6.05  \n",
       "4     127.76    304.15        7.70  "
      ]
     },
     "execution_count": 5,
     "metadata": {},
     "output_type": "execute_result"
    }
   ],
   "source": [
    "# Create a dataframe of the lists generated from the API Call loop above\n",
    "\n",
    "city_df = pd.DataFrame({'City ID':city_id_list,\n",
    "                        'City':city_name_list,\n",
    "                        'Country':country_name_list,\n",
    "                        'Date':date_list,\n",
    "                        'Cloudiness':cloudiness_list,\n",
    "                        'Humidity':humidity_list,\n",
    "                        'Latitude':lat_list,\n",
    "                        'Longitude':lng_list,\n",
    "                        'Max Temp':max_temp_list,\n",
    "                        'Wind Speed':wind_speed_list})\n",
    "\n",
    "city_df.head()"
   ]
  },
  {
   "cell_type": "markdown",
   "metadata": {},
   "source": [
    "## Inspect the data and remove the cities where the humidity > 100%.\n",
    "----\n",
    "Skip this step if there are no cities that have humidity > 100%. "
   ]
  },
  {
   "cell_type": "code",
   "execution_count": 6,
   "metadata": {},
   "outputs": [
    {
     "data": {
      "text/html": [
       "<div>\n",
       "<style scoped>\n",
       "    .dataframe tbody tr th:only-of-type {\n",
       "        vertical-align: middle;\n",
       "    }\n",
       "\n",
       "    .dataframe tbody tr th {\n",
       "        vertical-align: top;\n",
       "    }\n",
       "\n",
       "    .dataframe thead th {\n",
       "        text-align: right;\n",
       "    }\n",
       "</style>\n",
       "<table border=\"1\" class=\"dataframe\">\n",
       "  <thead>\n",
       "    <tr style=\"text-align: right;\">\n",
       "      <th></th>\n",
       "      <th>City ID</th>\n",
       "      <th>City</th>\n",
       "      <th>Country</th>\n",
       "      <th>Date</th>\n",
       "      <th>Cloudiness</th>\n",
       "      <th>Humidity</th>\n",
       "      <th>Latitude</th>\n",
       "      <th>Longitude</th>\n",
       "      <th>Max Temp</th>\n",
       "      <th>Wind Speed</th>\n",
       "    </tr>\n",
       "  </thead>\n",
       "  <tbody>\n",
       "  </tbody>\n",
       "</table>\n",
       "</div>"
      ],
      "text/plain": [
       "Empty DataFrame\n",
       "Columns: [City ID, City, Country, Date, Cloudiness, Humidity, Latitude, Longitude, Max Temp, Wind Speed]\n",
       "Index: []"
      ]
     },
     "execution_count": 6,
     "metadata": {},
     "output_type": "execute_result"
    }
   ],
   "source": [
    "# Create another df to inspect any cities over 100 humidity \n",
    "\n",
    "high_humidity_df = city_df.loc[city_df['Humidity'] > 100,:]\n",
    "\n",
    "high_humidity_df\n",
    "\n",
    "# No cities over 100%"
   ]
  },
  {
   "cell_type": "code",
   "execution_count": 7,
   "metadata": {},
   "outputs": [],
   "source": [
    "#  Get the indices of cities that have humidity over 100%.\n"
   ]
  },
  {
   "cell_type": "code",
   "execution_count": 8,
   "metadata": {},
   "outputs": [],
   "source": [
    "# Make a new DataFrame equal to the city data to drop all humidity outliers by index.\n",
    "# Passing \"inplace=False\" will make a copy of the city_data DataFrame, which we call \"clean_city_data\".\n"
   ]
  },
  {
   "cell_type": "code",
   "execution_count": 24,
   "metadata": {},
   "outputs": [],
   "source": [
    "# Extract relevant fields from the data frame\n",
    "\n",
    "\n",
    "# Export the City_Data into a csv\n",
    "city_df.to_csv(path_or_buf=output_data_file)"
   ]
  },
  {
   "cell_type": "markdown",
   "metadata": {},
   "source": [
    "## Plotting the Data\n",
    "* Use proper labeling of the plots using plot titles (including date of analysis) and axes labels.\n",
    "* Save the plotted figures as .pngs."
   ]
  },
  {
   "cell_type": "markdown",
   "metadata": {},
   "source": [
    "## Latitude vs. Temperature Plot"
   ]
  },
  {
   "cell_type": "code",
   "execution_count": 10,
   "metadata": {
    "scrolled": true
   },
   "outputs": [
    {
     "data": {
      "image/png": "[encoded data removed]",
      "text/plain": [
       "<Figure size 432x288 with 1 Axes>"
      ]
     },
     "metadata": {
      "needs_background": "light"
     },
     "output_type": "display_data"
    }
   ],
   "source": [
    "# Create a scatter plot of Latitude v Max Temp\n",
    "plt.scatter(city_df['Latitude'],city_df['Max Temp'])\n",
    "plt.xlabel('Latitude')\n",
    "plt.ylabel('Max Temperature in Kelvin')\n",
    "plt.show()\n"
   ]
  },
  {
   "cell_type": "markdown",
   "metadata": {},
   "source": [
    "## Latitude vs. Humidity Plot"
   ]
  },
  {
   "cell_type": "code",
   "execution_count": 11,
   "metadata": {},
   "outputs": [
    {
     "data": {
      "image/png": "[encoded data removed]",
      "text/plain": [
       "<Figure size 432x288 with 1 Axes>"
      ]
     },
     "metadata": {
      "needs_background": "light"
     },
     "output_type": "display_data"
    }
   ],
   "source": [
    "# Create a scatter plot of Latitude v Humidity\n",
    "\n",
    "plt.scatter(city_df['Latitude'],city_df['Humidity'])\n",
    "plt.xlabel('Latitude')\n",
    "plt.ylabel('Humidity %')\n",
    "plt.show()\n"
   ]
  },
  {
   "cell_type": "markdown",
   "metadata": {},
   "source": [
    "## Latitude vs. Cloudiness Plot"
   ]
  },
  {
   "cell_type": "code",
   "execution_count": 12,
   "metadata": {},
   "outputs": [
    {
     "data": {
      "image/png": "[encoded data removed]",
      "text/plain": [
       "<Figure size 432x288 with 1 Axes>"
      ]
     },
     "metadata": {
      "needs_background": "light"
     },
     "output_type": "display_data"
    }
   ],
   "source": [
    "# Create a scatter plot of Latitude v Cloudiness\n",
    "\n",
    "plt.scatter(city_df['Latitude'],city_df['Cloudiness'])\n",
    "plt.xlabel('Latitude')\n",
    "plt.ylabel('Cloudiness %')\n",
    "plt.show()\n"
   ]
  },
  {
   "cell_type": "markdown",
   "metadata": {},
   "source": [
    "## Latitude vs. Wind Speed Plot"
   ]
  },
  {
   "cell_type": "code",
   "execution_count": 1,
   "metadata": {},
   "outputs": [
    {
     "ename": "NameError",
     "evalue": "name 'plt' is not defined",
     "output_type": "error",
     "traceback": [
      "\u001b[1;31m---------------------------------------------------------------------------\u001b[0m",
      "\u001b[1;31mNameError\u001b[0m                                 Traceback (most recent call last)",
      "\u001b[1;32m<ipython-input-1-cd233259afa1>\u001b[0m in \u001b[0;36m<module>\u001b[1;34m\u001b[0m\n\u001b[1;32m----> 1\u001b[1;33m \u001b[0mplt\u001b[0m\u001b[1;33m.\u001b[0m\u001b[0mscatter\u001b[0m\u001b[1;33m(\u001b[0m\u001b[0mcity_df\u001b[0m\u001b[1;33m[\u001b[0m\u001b[1;34m'Latitude'\u001b[0m\u001b[1;33m]\u001b[0m\u001b[1;33m,\u001b[0m\u001b[0mcity_df\u001b[0m\u001b[1;33m[\u001b[0m\u001b[1;34m'Wind Speed'\u001b[0m\u001b[1;33m]\u001b[0m\u001b[1;33m)\u001b[0m\u001b[1;33m\u001b[0m\u001b[1;33m\u001b[0m\u001b[0m\n\u001b[0m\u001b[0;32m      2\u001b[0m \u001b[0mplt\u001b[0m\u001b[1;33m.\u001b[0m\u001b[0mxlabel\u001b[0m\u001b[1;33m(\u001b[0m\u001b[1;34m'Latitude'\u001b[0m\u001b[1;33m)\u001b[0m\u001b[1;33m\u001b[0m\u001b[1;33m\u001b[0m\u001b[0m\n\u001b[0;32m      3\u001b[0m \u001b[0mplt\u001b[0m\u001b[1;33m.\u001b[0m\u001b[0mylabel\u001b[0m\u001b[1;33m(\u001b[0m\u001b[1;34m'Cloudiness %'\u001b[0m\u001b[1;33m)\u001b[0m\u001b[1;33m\u001b[0m\u001b[1;33m\u001b[0m\u001b[0m\n\u001b[0;32m      4\u001b[0m \u001b[0mplt\u001b[0m\u001b[1;33m.\u001b[0m\u001b[0mshow\u001b[0m\u001b[1;33m(\u001b[0m\u001b[1;33m)\u001b[0m\u001b[1;33m\u001b[0m\u001b[1;33m\u001b[0m\u001b[0m\n",
      "\u001b[1;31mNameError\u001b[0m: name 'plt' is not defined"
     ]
    }
   ],
   "source": [
    "# Create a scatter plot of Latitude v Wind Speed\n",
    "\n",
    "\n",
    "plt.scatter(city_df['Latitude'],city_df['Wind Speed'])\n",
    "plt.xlabel('Latitude')\n",
    "plt.ylabel('Wind Speed')\n",
    "plt.show()\n"
   ]
  },
  {
   "cell_type": "markdown",
   "metadata": {},
   "source": [
    "## Linear Regression"
   ]
  },
  {
   "cell_type": "code",
   "execution_count": 13,
   "metadata": {},
   "outputs": [],
   "source": [
    "# OPTIONAL: Create a function to create Linear Regression plots"
   ]
  },
  {
   "cell_type": "code",
   "execution_count": 14,
   "metadata": {},
   "outputs": [
    {
     "data": {
      "text/html": [
       "<div>\n",
       "<style scoped>\n",
       "    .dataframe tbody tr th:only-of-type {\n",
       "        vertical-align: middle;\n",
       "    }\n",
       "\n",
       "    .dataframe tbody tr th {\n",
       "        vertical-align: top;\n",
       "    }\n",
       "\n",
       "    .dataframe thead th {\n",
       "        text-align: right;\n",
       "    }\n",
       "</style>\n",
       "<table border=\"1\" class=\"dataframe\">\n",
       "  <thead>\n",
       "    <tr style=\"text-align: right;\">\n",
       "      <th></th>\n",
       "      <th>City ID</th>\n",
       "      <th>City</th>\n",
       "      <th>Country</th>\n",
       "      <th>Date</th>\n",
       "      <th>Cloudiness</th>\n",
       "      <th>Humidity</th>\n",
       "      <th>Latitude</th>\n",
       "      <th>Longitude</th>\n",
       "      <th>Max Temp</th>\n",
       "      <th>Wind Speed</th>\n",
       "    </tr>\n",
       "  </thead>\n",
       "  <tbody>\n",
       "    <tr>\n",
       "      <th>0</th>\n",
       "      <td>1015776</td>\n",
       "      <td>Bredasdorp</td>\n",
       "      <td>ZA</td>\n",
       "      <td>1592446138</td>\n",
       "      <td>10</td>\n",
       "      <td>86</td>\n",
       "      <td>-34.53</td>\n",
       "      <td>20.04</td>\n",
       "      <td>277.15</td>\n",
       "      <td>2.35</td>\n",
       "    </tr>\n",
       "    <tr>\n",
       "      <th>1</th>\n",
       "      <td>4030556</td>\n",
       "      <td>Rikitea</td>\n",
       "      <td>PF</td>\n",
       "      <td>1592446138</td>\n",
       "      <td>100</td>\n",
       "      <td>84</td>\n",
       "      <td>-23.12</td>\n",
       "      <td>-134.97</td>\n",
       "      <td>297.34</td>\n",
       "      <td>7.72</td>\n",
       "    </tr>\n",
       "    <tr>\n",
       "      <th>2</th>\n",
       "      <td>3833367</td>\n",
       "      <td>Ushuaia</td>\n",
       "      <td>AR</td>\n",
       "      <td>1592446138</td>\n",
       "      <td>2</td>\n",
       "      <td>86</td>\n",
       "      <td>-54.80</td>\n",
       "      <td>-68.30</td>\n",
       "      <td>274.15</td>\n",
       "      <td>2.10</td>\n",
       "    </tr>\n",
       "    <tr>\n",
       "      <th>3</th>\n",
       "      <td>4020109</td>\n",
       "      <td>Atuona</td>\n",
       "      <td>PF</td>\n",
       "      <td>1592446138</td>\n",
       "      <td>42</td>\n",
       "      <td>72</td>\n",
       "      <td>-9.80</td>\n",
       "      <td>-139.03</td>\n",
       "      <td>300.27</td>\n",
       "      <td>6.05</td>\n",
       "    </tr>\n",
       "    <tr>\n",
       "      <th>5</th>\n",
       "      <td>3366880</td>\n",
       "      <td>Hermanus</td>\n",
       "      <td>ZA</td>\n",
       "      <td>1592446139</td>\n",
       "      <td>0</td>\n",
       "      <td>82</td>\n",
       "      <td>-34.42</td>\n",
       "      <td>19.23</td>\n",
       "      <td>282.59</td>\n",
       "      <td>0.45</td>\n",
       "    </tr>\n",
       "  </tbody>\n",
       "</table>\n",
       "</div>"
      ],
      "text/plain": [
       "   City ID        City Country        Date  Cloudiness  Humidity  Latitude  \\\n",
       "0  1015776  Bredasdorp      ZA  1592446138          10        86    -34.53   \n",
       "1  4030556     Rikitea      PF  1592446138         100        84    -23.12   \n",
       "2  3833367     Ushuaia      AR  1592446138           2        86    -54.80   \n",
       "3  4020109      Atuona      PF  1592446138          42        72     -9.80   \n",
       "5  3366880    Hermanus      ZA  1592446139           0        82    -34.42   \n",
       "\n",
       "   Longitude  Max Temp  Wind Speed  \n",
       "0      20.04    277.15        2.35  \n",
       "1    -134.97    297.34        7.72  \n",
       "2     -68.30    274.15        2.10  \n",
       "3    -139.03    300.27        6.05  \n",
       "5      19.23    282.59        0.45  "
      ]
     },
     "execution_count": 14,
     "metadata": {},
     "output_type": "execute_result"
    }
   ],
   "source": [
    "# Create Northern and Southern Hemisphere DataFrames\n",
    "\n",
    "# Northern Hemisphere will be all values with lat>0 since we can't exclude 0, I will choose to include it in the Northern Hemisphere\n",
    "\n",
    "northern_df = city_df.loc[city_df['Latitude']>=0,:]\n",
    "\n",
    "northern_df.head()\n",
    "\n",
    "# Southern Hemisphere df will consist of all data with lat<0\n",
    "\n",
    "southern_df = city_df.loc[city_df['Latitude']<0,:]\n",
    "\n",
    "southern_df.head()"
   ]
  },
  {
   "cell_type": "code",
   "execution_count": null,
   "metadata": {},
   "outputs": [],
   "source": [
    "# All cells below will run an individual linear regression for the two decided variables"
   ]
  },
  {
   "cell_type": "markdown",
   "metadata": {},
   "source": [
    "####  Northern Hemisphere - Max Temp vs. Latitude Linear Regression"
   ]
  },
  {
   "cell_type": "code",
   "execution_count": 15,
   "metadata": {},
   "outputs": [
    {
     "data": {
      "image/png": "[encoded data removed]",
      "text/plain": [
       "<Figure size 432x288 with 1 Axes>"
      ]
     },
     "metadata": {
      "needs_background": "light"
     },
     "output_type": "display_data"
    }
   ],
   "source": [
    "(slope, intercept, r_value, p_value, std_err) = linregress(northern_df['Max Temp'],northern_df['Latitude'])\n",
    "\n",
    "\n",
    "regress_values = (slope)*northern_df['Max Temp'] + intercept\n",
    "plt.scatter(northern_df['Max Temp'],northern_df['Latitude'],c=\"y\")\n",
    "plt.plot(northern_df['Max Temp'], regress_values, \"r-\")\n",
    "plt.annotate(f'y={round(slope,2)}x + {round(intercept,2)}',(northern_df['Max Temp'].mean(),northern_df['Latitude'].mean()),size = 16,weight = \"bold\")\n",
    "plt.xlabel('Maximum Temperature')\n",
    "plt.ylabel('Latitude')\n",
    "plt.title ('Max Temp v Latitude (Northern Hemisphere)')\n",
    "plt.show()\n",
    "\n",
    "\n"
   ]
  },
  {
   "cell_type": "markdown",
   "metadata": {},
   "source": [
    "####  Southern Hemisphere - Max Temp vs. Latitude Linear Regression"
   ]
  },
  {
   "cell_type": "code",
   "execution_count": 16,
   "metadata": {},
   "outputs": [
    {
     "data": {
      "image/png": "[encoded data removed]",
      "text/plain": [
       "<Figure size 432x288 with 1 Axes>"
      ]
     },
     "metadata": {
      "needs_background": "light"
     },
     "output_type": "display_data"
    }
   ],
   "source": [
    "(slope, intercept, r_value, p_value, std_err) = linregress(southern_df['Max Temp'],southern_df['Latitude'])\n",
    "\n",
    "regress_values = (slope)*southern_df['Max Temp'] + intercept\n",
    "plt.scatter(southern_df['Max Temp'],southern_df['Latitude'],c=\"y\")\n",
    "plt.plot(southern_df['Max Temp'], regress_values, \"r-\")\n",
    "plt.annotate(f'y={round(slope,2)}x + {round(intercept,2)}',(southern_df['Max Temp'].mean(),southern_df['Latitude'].mean()),size = 16,weight = \"bold\")\n",
    "plt.xlabel('Maximum Temperature')\n",
    "plt.ylabel('Latitude')\n",
    "plt.title ('Max Temp v Latitude (Southern Hemisphere)')\n",
    "plt.show()\n",
    "\n"
   ]
  },
  {
   "cell_type": "markdown",
   "metadata": {},
   "source": [
    "####  Northern Hemisphere - Humidity (%) vs. Latitude Linear Regression"
   ]
  },
  {
   "cell_type": "code",
   "execution_count": 17,
   "metadata": {},
   "outputs": [
    {
     "data": {
      "image/png": "[encoded data removed]",
      "text/plain": [
       "<Figure size 432x288 with 1 Axes>"
      ]
     },
     "metadata": {
      "needs_background": "light"
     },
     "output_type": "display_data"
    }
   ],
   "source": [
    "(slope, intercept, r_value, p_value, std_err) = linregress(northern_df['Humidity'],northern_df['Latitude'])\n",
    "\n",
    "regress_values = (slope)*northern_df['Humidity'] + intercept\n",
    "plt.scatter(northern_df['Humidity'],northern_df['Latitude'],c=\"y\")\n",
    "plt.plot(northern_df['Humidity'], regress_values, \"r-\")\n",
    "plt.annotate(f'y={round(slope,2)}x + {round(intercept,2)}',(northern_df['Humidity'].mean(),northern_df['Latitude'].mean()),size = 16,weight = \"bold\")\n",
    "plt.xlabel('Humidity')\n",
    "plt.ylabel('Latitude')\n",
    "plt.title ('Humidity v Latitude (Northern Hemisphere)')\n",
    "plt.show()\n"
   ]
  },
  {
   "cell_type": "markdown",
   "metadata": {},
   "source": [
    "####  Southern Hemisphere - Humidity (%) vs. Latitude Linear Regression"
   ]
  },
  {
   "cell_type": "code",
   "execution_count": 18,
   "metadata": {},
   "outputs": [
    {
     "data": {
      "image/png": "[encoded data removed]",
      "text/plain": [
       "<Figure size 432x288 with 1 Axes>"
      ]
     },
     "metadata": {
      "needs_background": "light"
     },
     "output_type": "display_data"
    },
    {
     "name": "stdout",
     "output_type": "stream",
     "text": [
      "The Linear Regression for Humidity % v Latitude in the Southern Hemisphere is y = 0.05x +-24.52\n"
     ]
    }
   ],
   "source": [
    "(slope, intercept, r_value, p_value, std_err) = linregress(southern_df['Humidity'],southern_df['Latitude'])\n",
    "\n",
    "regress_values = (slope)*southern_df['Humidity'] + intercept\n",
    "plt.scatter(southern_df['Humidity'],southern_df['Latitude'],c=\"y\")\n",
    "plt.plot(southern_df['Humidity'], regress_values, \"r-\")\n",
    "plt.annotate(f'y={round(slope,2)}x + {round(intercept,2)}',(southern_df['Humidity'].mean(),southern_df['Latitude'].mean()),size = 16,weight = \"bold\")\n",
    "plt.xlabel('Humidity')\n",
    "plt.ylabel('Latitude')\n",
    "plt.title ('Humidity v Latitude (Southern Hemisphere)')\n",
    "plt.show()\n",
    "\n",
    "print(f'The Linear Regression for Humidity % v Latitude in the Southern Hemisphere is y = {round(slope,2)}x +{round(intercept,2)}')\n",
    "\n"
   ]
  },
  {
   "cell_type": "markdown",
   "metadata": {},
   "source": [
    "####  Northern Hemisphere - Cloudiness (%) vs. Latitude Linear Regression"
   ]
  },
  {
   "cell_type": "code",
   "execution_count": 19,
   "metadata": {},
   "outputs": [
    {
     "data": {
      "image/png": "[encoded data removed]",
      "text/plain": [
       "<Figure size 432x288 with 1 Axes>"
      ]
     },
     "metadata": {
      "needs_background": "light"
     },
     "output_type": "display_data"
    }
   ],
   "source": [
    "(slope, intercept, r_value, p_value, std_err) = linregress(northern_df['Cloudiness'],northern_df['Latitude'])\n",
    "\n",
    "regress_values = (slope)*northern_df['Cloudiness'] + intercept\n",
    "plt.scatter(northern_df['Cloudiness'],northern_df['Latitude'],c=\"y\")\n",
    "plt.plot(northern_df['Cloudiness'], regress_values, \"r-\")\n",
    "plt.annotate(f'y={round(slope,2)}x + {round(intercept,2)}',(northern_df['Cloudiness'].mean(),northern_df['Latitude'].mean()),size = 16,weight = \"bold\")\n",
    "plt.xlabel('Cloudiness')\n",
    "plt.ylabel('Latitude')\n",
    "plt.title ('Cloudiness v Latitude (Northern Hemisphere)')\n",
    "plt.show()\n",
    "\n"
   ]
  },
  {
   "cell_type": "markdown",
   "metadata": {},
   "source": [
    "####  Southern Hemisphere - Cloudiness (%) vs. Latitude Linear Regression"
   ]
  },
  {
   "cell_type": "code",
   "execution_count": 20,
   "metadata": {},
   "outputs": [
    {
     "data": {
      "image/png": "[encoded data removed]",
      "text/plain": [
       "<Figure size 432x288 with 1 Axes>"
      ]
     },
     "metadata": {
      "needs_background": "light"
     },
     "output_type": "display_data"
    }
   ],
   "source": [
    "(slope, intercept, r_value, p_value, std_err) = linregress(southern_df['Cloudiness'],southern_df['Latitude'])\n",
    "\n",
    "regress_values = (slope)*southern_df['Cloudiness'] + intercept\n",
    "plt.scatter(southern_df['Cloudiness'],southern_df['Latitude'],c=\"y\")\n",
    "plt.plot(southern_df['Cloudiness'], regress_values, \"r-\")\n",
    "plt.annotate(f'y={round(slope,2)}x + {round(intercept,2)}',(southern_df['Cloudiness'].mean(),southern_df['Latitude'].mean()),size = 16,weight = \"bold\")\n",
    "plt.xlabel('Cloudiness')\n",
    "plt.ylabel('Latitude')\n",
    "plt.title ('Cloudiness v Latitude (Southern Hemisphere)')\n",
    "plt.show()\n",
    "\n",
    "\n"
   ]
  },
  {
   "cell_type": "markdown",
   "metadata": {},
   "source": [
    "####  Northern Hemisphere - Wind Speed (mph) vs. Latitude Linear Regression"
   ]
  },
  {
   "cell_type": "code",
   "execution_count": 21,
   "metadata": {},
   "outputs": [
    {
     "data": {
      "image/png": "[encoded data removed]",
      "text/plain": [
       "<Figure size 432x288 with 1 Axes>"
      ]
     },
     "metadata": {
      "needs_background": "light"
     },
     "output_type": "display_data"
    },
    {
     "name": "stdout",
     "output_type": "stream",
     "text": [
      "The Linear Regression for Wind Speed v Latitude in the Northern Hemisphere is y = -0.6x +41.43\n"
     ]
    }
   ],
   "source": [
    "(slope, intercept, r_value, p_value, std_err) = linregress(northern_df['Wind Speed'],northern_df['Latitude'])\n",
    "\n",
    "regress_values = (slope)*northern_df['Wind Speed'] + intercept\n",
    "plt.scatter(northern_df['Wind Speed'],northern_df['Latitude'],c=\"y\")\n",
    "plt.plot(northern_df['Wind Speed'], regress_values, \"r-\")\n",
    "plt.annotate(f'y={round(slope,2)}x + {round(intercept,2)}',(northern_df['Wind Speed'].mean(),northern_df['Latitude'].mean()),size = 16,weight = \"bold\")\n",
    "plt.xlabel('Wind Speed')\n",
    "plt.ylabel('Latitude')\n",
    "plt.title ('Wind Speed v Latitude (Northern Hemisphere)')\n",
    "plt.show()\n",
    "\n",
    "\n",
    "\n",
    "\n",
    "print(f'The Linear Regression for Wind Speed v Latitude in the Northern Hemisphere is y = {round(slope,2)}x +{round(intercept,2)}')\n",
    "\n"
   ]
  },
  {
   "cell_type": "markdown",
   "metadata": {},
   "source": [
    "####  Southern Hemisphere - Wind Speed (mph) vs. Latitude Linear Regression"
   ]
  },
  {
   "cell_type": "code",
   "execution_count": 22,
   "metadata": {},
   "outputs": [
    {
     "data": {
      "image/png": "[encoded data removed]",
      "text/plain": [
       "<Figure size 432x288 with 1 Axes>"
      ]
     },
     "metadata": {
      "needs_background": "light"
     },
     "output_type": "display_data"
    }
   ],
   "source": [
    "(slope, intercept, r_value, p_value, std_err) = linregress(southern_df['Wind Speed'],southern_df['Latitude'])\n",
    "\n",
    "regress_values = (slope)*southern_df['Wind Speed'] + intercept\n",
    "plt.scatter(southern_df['Wind Speed'],southern_df['Latitude'],c=\"y\")\n",
    "plt.plot(southern_df['Wind Speed'], regress_values, \"r-\")\n",
    "plt.annotate(f'y={round(slope,2)}x + {round(intercept,2)}',(southern_df['Wind Speed'].mean(),southern_df['Latitude'].mean()),size = 16,weight = \"bold\")\n",
    "plt.xlabel('Wind Speed')\n",
    "plt.ylabel('Latitude')\n",
    "plt.title ('Wind Speed v Latitude (Southern Hemisphere)')\n",
    "plt.show()"
   ]
  },
  {
   "cell_type": "code",
   "execution_count": null,
   "metadata": {},
   "outputs": [],
   "source": []
  }
 ],
 "metadata": {
  "anaconda-cloud": {},
  "kernel_info": {
   "name": "python3"
  },
  "kernelspec": {
   "display_name": "Python [conda env:PythonData] *",
   "language": "python",
   "name": "conda-env-PythonData-py"
  },
  "language_info": {
   "codemirror_mode": {
    "name": "ipython",
    "version": 3
   },
   "file_extension": ".py",
   "mimetype": "text/x-python",
   "name": "python",
   "nbconvert_exporter": "python",
   "pygments_lexer": "ipython3",
   "version": "3.8.3"
  },
  "latex_envs": {
   "LaTeX_envs_menu_present": true,
   "autoclose": false,
   "autocomplete": true,
   "bibliofile": "biblio.bib",
   "cite_by": "apalike",
   "current_citInitial": 1,
   "eqLabelWithNumbers": true,
   "eqNumInitial": 1,
   "hotkeys": {
    "equation": "Ctrl-E",
    "itemize": "Ctrl-I"
   },
   "labels_anchors": false,
   "latex_user_defs": false,
   "report_style_numbering": false,
   "user_envs_cfg": false
  },
  "nteract": {
   "version": "0.12.3"
  }
 },
 "nbformat": 4,
 "nbformat_minor": 2
}
